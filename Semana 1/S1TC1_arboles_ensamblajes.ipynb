{
 "cells": [
  {
   "cell_type": "markdown",
   "metadata": {},
   "source": [
    "![image info](https://raw.githubusercontent.com/albahnsen/MIAD_ML_and_NLP/main/images/banner_1.png)"
   ]
  },
  {
   "cell_type": "markdown",
   "metadata": {},
   "source": [
    "# Taller: Construcción e implementación de árboles de decisión y métodos de ensamblaje\n",
    "\n",
    "En este taller podrá poner en práctica los sus conocimientos sobre construcción e implementación de árboles de decisión y métodos de ensamblajes. El taller está constituido por 9 puntos, 5 relacionados con árboles de decisión (parte A) y 4 con métodos de ensamblaje (parte B)."
   ]
  },
  {
   "cell_type": "markdown",
   "metadata": {},
   "source": [
    "## Parte A - Árboles de decisión\n",
    "\n",
    "En esta parte del taller se usará el conjunto de datos de Capital Bikeshare de Kaggle, donde cada observación representa el alquiler de una bicicleta durante una hora y día determinado. Para más detalles puede visitar los siguientes enlaces: [datos](https://github.com/justmarkham/DAT8/blob/master/data/bikeshare.csv), [dicccionario de datos](https://www.kaggle.com/c/bike-sharing-demand/data)."
   ]
  },
  {
   "cell_type": "markdown",
   "metadata": {},
   "source": [
    "### Datos prestamo de bicicletas"
   ]
  },
  {
   "cell_type": "code",
   "execution_count": 1,
   "metadata": {},
   "outputs": [],
   "source": [
    "import warnings\n",
    "warnings.filterwarnings('ignore')"
   ]
  },
  {
   "cell_type": "code",
   "execution_count": 5,
   "metadata": {},
   "outputs": [],
   "source": [
    "# Importación de librerías\n",
    "%matplotlib inline\n",
    "import pandas as pd\n",
    "import numpy as np\n",
    "import seaborn as sns\n",
    "import matplotlib.pyplot as plt\n",
    "from sklearn.model_selection import cross_val_score\n",
    "from sklearn.linear_model import LinearRegression\n",
    "from sklearn.tree import DecisionTreeRegressor, export_graphviz"
   ]
  },
  {
   "cell_type": "code",
   "execution_count": 3,
   "metadata": {},
   "outputs": [
    {
     "data": {
      "text/html": [
       "<div>\n",
       "<style scoped>\n",
       "    .dataframe tbody tr th:only-of-type {\n",
       "        vertical-align: middle;\n",
       "    }\n",
       "\n",
       "    .dataframe tbody tr th {\n",
       "        vertical-align: top;\n",
       "    }\n",
       "\n",
       "    .dataframe thead th {\n",
       "        text-align: right;\n",
       "    }\n",
       "</style>\n",
       "<table border=\"1\" class=\"dataframe\">\n",
       "  <thead>\n",
       "    <tr style=\"text-align: right;\">\n",
       "      <th></th>\n",
       "      <th>season</th>\n",
       "      <th>holiday</th>\n",
       "      <th>workingday</th>\n",
       "      <th>weather</th>\n",
       "      <th>temp</th>\n",
       "      <th>atemp</th>\n",
       "      <th>humidity</th>\n",
       "      <th>windspeed</th>\n",
       "      <th>casual</th>\n",
       "      <th>registered</th>\n",
       "      <th>total</th>\n",
       "      <th>hour</th>\n",
       "    </tr>\n",
       "    <tr>\n",
       "      <th>datetime</th>\n",
       "      <th></th>\n",
       "      <th></th>\n",
       "      <th></th>\n",
       "      <th></th>\n",
       "      <th></th>\n",
       "      <th></th>\n",
       "      <th></th>\n",
       "      <th></th>\n",
       "      <th></th>\n",
       "      <th></th>\n",
       "      <th></th>\n",
       "      <th></th>\n",
       "    </tr>\n",
       "  </thead>\n",
       "  <tbody>\n",
       "    <tr>\n",
       "      <th>2011-01-01 00:00:00</th>\n",
       "      <td>1</td>\n",
       "      <td>0</td>\n",
       "      <td>0</td>\n",
       "      <td>1</td>\n",
       "      <td>9.84</td>\n",
       "      <td>14.395</td>\n",
       "      <td>81</td>\n",
       "      <td>0.0</td>\n",
       "      <td>3</td>\n",
       "      <td>13</td>\n",
       "      <td>16</td>\n",
       "      <td>0</td>\n",
       "    </tr>\n",
       "    <tr>\n",
       "      <th>2011-01-01 01:00:00</th>\n",
       "      <td>1</td>\n",
       "      <td>0</td>\n",
       "      <td>0</td>\n",
       "      <td>1</td>\n",
       "      <td>9.02</td>\n",
       "      <td>13.635</td>\n",
       "      <td>80</td>\n",
       "      <td>0.0</td>\n",
       "      <td>8</td>\n",
       "      <td>32</td>\n",
       "      <td>40</td>\n",
       "      <td>1</td>\n",
       "    </tr>\n",
       "    <tr>\n",
       "      <th>2011-01-01 02:00:00</th>\n",
       "      <td>1</td>\n",
       "      <td>0</td>\n",
       "      <td>0</td>\n",
       "      <td>1</td>\n",
       "      <td>9.02</td>\n",
       "      <td>13.635</td>\n",
       "      <td>80</td>\n",
       "      <td>0.0</td>\n",
       "      <td>5</td>\n",
       "      <td>27</td>\n",
       "      <td>32</td>\n",
       "      <td>2</td>\n",
       "    </tr>\n",
       "    <tr>\n",
       "      <th>2011-01-01 03:00:00</th>\n",
       "      <td>1</td>\n",
       "      <td>0</td>\n",
       "      <td>0</td>\n",
       "      <td>1</td>\n",
       "      <td>9.84</td>\n",
       "      <td>14.395</td>\n",
       "      <td>75</td>\n",
       "      <td>0.0</td>\n",
       "      <td>3</td>\n",
       "      <td>10</td>\n",
       "      <td>13</td>\n",
       "      <td>3</td>\n",
       "    </tr>\n",
       "    <tr>\n",
       "      <th>2011-01-01 04:00:00</th>\n",
       "      <td>1</td>\n",
       "      <td>0</td>\n",
       "      <td>0</td>\n",
       "      <td>1</td>\n",
       "      <td>9.84</td>\n",
       "      <td>14.395</td>\n",
       "      <td>75</td>\n",
       "      <td>0.0</td>\n",
       "      <td>0</td>\n",
       "      <td>1</td>\n",
       "      <td>1</td>\n",
       "      <td>4</td>\n",
       "    </tr>\n",
       "  </tbody>\n",
       "</table>\n",
       "</div>"
      ],
      "text/plain": [
       "                     season  holiday  workingday  weather  temp   atemp  \\\n",
       "datetime                                                                  \n",
       "2011-01-01 00:00:00       1        0           0        1  9.84  14.395   \n",
       "2011-01-01 01:00:00       1        0           0        1  9.02  13.635   \n",
       "2011-01-01 02:00:00       1        0           0        1  9.02  13.635   \n",
       "2011-01-01 03:00:00       1        0           0        1  9.84  14.395   \n",
       "2011-01-01 04:00:00       1        0           0        1  9.84  14.395   \n",
       "\n",
       "                     humidity  windspeed  casual  registered  total  hour  \n",
       "datetime                                                                   \n",
       "2011-01-01 00:00:00        81        0.0       3          13     16     0  \n",
       "2011-01-01 01:00:00        80        0.0       8          32     40     1  \n",
       "2011-01-01 02:00:00        80        0.0       5          27     32     2  \n",
       "2011-01-01 03:00:00        75        0.0       3          10     13     3  \n",
       "2011-01-01 04:00:00        75        0.0       0           1      1     4  "
      ]
     },
     "execution_count": 3,
     "metadata": {},
     "output_type": "execute_result"
    }
   ],
   "source": [
    "# Lectura de la información de archivo .csv\n",
    "bikes = pd.read_csv('https://raw.githubusercontent.com/albahnsen/MIAD_ML_and_NLP/main/datasets/bikeshare.csv', index_col='datetime', parse_dates=True)\n",
    "# Renombrar variable \"count\" a \"total\"\n",
    "bikes.rename(columns={'count':'total'}, inplace=True)\n",
    "# Crear la hora como una variable \n",
    "bikes['hour'] = bikes.index.hour\n",
    "# Visualización\n",
    "bikes.head()"
   ]
  },
  {
   "cell_type": "markdown",
   "metadata": {},
   "source": [
    "### Punto 1 - Análisis descriptivo\n",
    "\n",
    "Ejecute las celdas 1.1 y 1.2. A partir de los resultados realice un análisis descriptivo sobre las variables hour y workingday, escriba sus inferencias sobre los datos. Para complementar su análisis puede usar métricas como máximo, mínimo, percentiles entre otros."
   ]
  },
  {
   "cell_type": "code",
   "execution_count": 67,
   "metadata": {},
   "outputs": [
    {
     "name": "stdout",
     "output_type": "stream",
     "text": [
      "workingday\n",
      "0    188.506621\n",
      "1    193.011873\n",
      "Name: total, dtype: float64\n"
     ]
    },
    {
     "data": {
      "image/png": "[encoded data removed]",
      "text/plain": [
       "<Figure size 432x288 with 1 Axes>"
      ]
     },
     "metadata": {
      "needs_background": "light"
     },
     "output_type": "display_data"
    }
   ],
   "source": [
    "# Celda 1.1\n",
    "\n",
    "print(bikes.groupby('workingday').total.mean())\n",
    "\n",
    "sns.barplot(y = bikes.groupby('workingday').total.mean(), x = bikes['workingday'].value_counts().index)\n",
    "plt.title('Promedio de rentas según workingday')\n",
    "plt.show()\n",
    "\n"
   ]
  },
  {
   "cell_type": "markdown",
   "metadata": {},
   "source": [
    "Se puede observar que el promedio de rentas de bicicletas se mantiene similar entre los días laborables y los que no lo son"
   ]
  },
  {
   "cell_type": "code",
   "execution_count": 74,
   "metadata": {
    "scrolled": true
   },
   "outputs": [
    {
     "name": "stdout",
     "output_type": "stream",
     "text": [
      "hour\n",
      "0      55.138462\n",
      "1      33.859031\n",
      "2      22.899554\n",
      "3      11.757506\n",
      "4       6.407240\n",
      "5      19.767699\n",
      "6      76.259341\n",
      "7     213.116484\n",
      "8     362.769231\n",
      "9     221.780220\n",
      "10    175.092308\n",
      "11    210.674725\n",
      "12    256.508772\n",
      "13    257.787281\n",
      "14    243.442982\n",
      "15    254.298246\n",
      "16    316.372807\n",
      "17    468.765351\n",
      "18    430.859649\n",
      "19    315.278509\n",
      "20    228.517544\n",
      "21    173.370614\n",
      "22    133.576754\n",
      "23     89.508772\n",
      "Name: total, dtype: float64\n"
     ]
    },
    {
     "data": {
      "image/png": "[encoded data removed]",
      "text/plain": [
       "<Figure size 432x288 with 1 Axes>"
      ]
     },
     "metadata": {
      "needs_background": "light"
     },
     "output_type": "display_data"
    }
   ],
   "source": [
    "# Celda 1.2\n",
    "print(bikes.groupby('hour').total.mean())\n",
    "\n",
    "sns.barplot( y = bikes.groupby('hour').total.mean(),x = bikes.groupby('hour').total.mean().index)\n",
    "plt.title('Promedio de rentass según hour')\n",
    "plt.show()"
   ]
  },
  {
   "cell_type": "markdown",
   "metadata": {},
   "source": [
    "De la misma manera, se puede observar que las horas donde hay, en promedio, más rentas son las 17 y las 18. Esto indica las horas pico del servicio"
   ]
  },
  {
   "cell_type": "code",
   "execution_count": 77,
   "metadata": {},
   "outputs": [
    {
     "data": {
      "text/plain": [
       "Text(0.5, 1.0, 'Distribución de pedidos promedio por hora y workingday')"
      ]
     },
     "execution_count": 77,
     "metadata": {},
     "output_type": "execute_result"
    },
    {
     "data": {
      "image/png": "[encoded data removed]",
      "text/plain": [
       "<Figure size 432x288 with 2 Axes>"
      ]
     },
     "metadata": {
      "needs_background": "light"
     },
     "output_type": "display_data"
    }
   ],
   "source": [
    "sns.heatmap(pd.pivot_table(data = bikes, index = 'hour', columns = 'workingday', values = 'total', aggfunc= 'mean'))\n",
    "plt.title('Distribución de pedidos promedio por hora y workingday')"
   ]
  },
  {
   "cell_type": "markdown",
   "metadata": {},
   "source": [
    "Finalmente, se hizo un análisis para determinar cuáles son las horas con mayor demanda dependiendo si el día es laborable o no. En los días laborables, el promedio de rentas se concentra entre las 8, 17 y 18 horas, lo que se podría explicar por las horas en las que las personas están dirigiendose al trabajo o a su centro de estudios. Sin embargo, durante los días no laborables, la demanda se distribuye entre las 12 y las 16 horas."
   ]
  },
  {
   "cell_type": "markdown",
   "metadata": {},
   "source": [
    "### Punto 2 - Análisis de gráficos\n",
    "\n",
    "Primero ejecute la celda 2.1 y asegúrese de comprender el código y el resultado. Luego, en cada una de celdas 2.2 y 2.3 escriba un código que genere una gráfica de las rentas promedio por hora cuando la variable \"workingday\" es igual a 0 e igual a 1, respectivamente. Analice y escriba sus hallazgos."
   ]
  },
  {
   "cell_type": "code",
   "execution_count": 78,
   "metadata": {},
   "outputs": [
    {
     "data": {
      "text/plain": [
       "<AxesSubplot:xlabel='hour'>"
      ]
     },
     "execution_count": 78,
     "metadata": {},
     "output_type": "execute_result"
    },
    {
     "data": {
      "image/png": "[encoded data removed]",
      "text/plain": [
       "<Figure size 432x288 with 1 Axes>"
      ]
     },
     "metadata": {
      "needs_background": "light"
     },
     "output_type": "display_data"
    }
   ],
   "source": [
    "# Celda 2.1 - rentas promedio para cada valor de la variable \"hour\"\n",
    "bikes.groupby('hour').total.mean().plot()"
   ]
  },
  {
   "cell_type": "code",
   "execution_count": 83,
   "metadata": {},
   "outputs": [
    {
     "data": {
      "text/plain": [
       "Text(0.5, 1.0, 'Rentas promedio por hora en días no laborables')"
      ]
     },
     "execution_count": 83,
     "metadata": {},
     "output_type": "execute_result"
    },
    {
     "data": {
      "image/png": "[encoded data removed]",
      "text/plain": [
       "<Figure size 432x288 with 1 Axes>"
      ]
     },
     "metadata": {
      "needs_background": "light"
     },
     "output_type": "display_data"
    }
   ],
   "source": [
    "# Celda 2.2 - \"workingday\"=0 escriba su código y hallazgos \n",
    "no_laborables = bikes[bikes['workingday']== 0]\n",
    "sns.lineplot(data = no_laborables, x = 'hour', y = 'total')\n",
    "plt.title('Rentas promedio por hora en días no laborables')"
   ]
  },
  {
   "cell_type": "markdown",
   "metadata": {},
   "source": [
    "En este caso, se puede observar que las rentas en días no laborables, en promedio, se encuentran entre las 12 y las 16 horas, mientras que el menor número de rentas se encuentra entre las 4 y las 5 horas."
   ]
  },
  {
   "cell_type": "code",
   "execution_count": 85,
   "metadata": {},
   "outputs": [
    {
     "data": {
      "text/plain": [
       "Text(0.5, 1.0, 'Rentas promedio por hora en días laborables')"
      ]
     },
     "execution_count": 85,
     "metadata": {},
     "output_type": "execute_result"
    },
    {
     "data": {
      "image/png": "[encoded data removed]",
      "text/plain": [
       "<Figure size 432x288 with 1 Axes>"
      ]
     },
     "metadata": {
      "needs_background": "light"
     },
     "output_type": "display_data"
    }
   ],
   "source": [
    "# Celda 2.3 - \"workingday\"=1 escriba su código y hallazgos \n",
    "laborables = bikes[bikes['workingday']== 1]\n",
    "sns.lineplot(data = laborables, x = 'hour', y = 'total')\n",
    "plt.title('Rentas promedio por hora en días laborables')"
   ]
  },
  {
   "cell_type": "markdown",
   "metadata": {},
   "source": [
    "Con respecto a las rentas en días laborables, se puede observar que hay dos picos bien marcados. El primero se produce a las 8 horas y el segundo se produce entre las 17 y 18 horas. Esto coincide con las horas de ingreso y salida de los centros de labores y estudios, lo que podría ser un indicio. Al igual que en los días no laborables, la menor cantidad de rentas se produce entre las 3 y 5 horas."
   ]
  },
  {
   "cell_type": "markdown",
   "metadata": {},
   "source": [
    "### Punto 3 - Regresión lineal\n",
    "En la celda 3 ajuste un modelo de regresión lineal a todo el conjunto de datos, utilizando \"total\" como variable de respuesta y \"hour\" y \"workingday\" como las únicas variables predictoras. Luego, imprima los coeficientes e interprételos. ¿Cuáles son las limitaciones de la regresión lineal en este caso?"
   ]
  },
  {
   "cell_type": "code",
   "execution_count": 126,
   "metadata": {},
   "outputs": [
    {
     "name": "stdout",
     "output_type": "stream",
     "text": [
      "Los coeficientes del modelo son: [10.11298796  3.3969164 ]\n",
      "El MSE del modelo es 27592.96528161126\n"
     ]
    }
   ],
   "source": [
    "# Celda 3\n",
    "from sklearn.model_selection import train_test_split\n",
    "from sklearn.linear_model import LinearRegression\n",
    "from sklearn.metrics import mean_squared_error\n",
    "from sklearn.model_selection import cross_val_score\n",
    "\n",
    "\n",
    "y = bikes['total']\n",
    "x = bikes[['hour','workingday']]\n",
    "x_train, x_test, y_train, y_test = train_test_split(x,y,test_size=0.3)\n",
    "\n",
    "modelo_rl = LinearRegression().fit(x_train, y_train)\n",
    "print('Los coeficientes del modelo son:',modelo_rl.coef_)\n",
    "y_pred_rl = modelo_rl.predict(x_test)\n",
    "mse_rl = mean_squared_error(y_test,y_pred_rl)\n",
    "print('El MSE del modelo es', mse_rl)"
   ]
  },
  {
   "cell_type": "markdown",
   "metadata": {},
   "source": [
    "Los coeficientes de la regresión líneal son 10.69 para la variable hour y 4.57 para la variable workingday. Esto indica que, manteniendo todo constante, un aumento en una unidad de la variable hour implica, en promedio, un aumento de 10.69 en la variable total. De la misma manera, manteniendo todo constante, un aumento en una unidad de la variable workingday implica un aumento promedio de 4.57 unidades en la variable total.\n",
    "\n",
    "Un problema del uso de la regresión lineal, además de tener que adaptarse a un esquema lineal es que, en este caso específico, no sería tan adecuado usarla debido a que la variable workingday es una variable categórica. Es decir, el coeficiente anteriormente hallado y su interpretación no sería correcta bajo el contexto del problema planteado."
   ]
  },
  {
   "cell_type": "markdown",
   "metadata": {},
   "source": [
    "### Punto 4 - Árbol de decisión manual\n",
    "En la celda 4 cree un árbol de decisiones para pronosticar la variable \"total\" iterando **manualmente** sobre las variables \"hour\" y  \"workingday\". El árbol debe tener al menos 6 nodos finales."
   ]
  },
  {
   "cell_type": "code",
   "execution_count": 112,
   "metadata": {},
   "outputs": [
    {
     "data": {
      "text/plain": [
       "{'y_pred': 1,\n",
       " 'y_prob': 191.53903379867745,\n",
       " 'level': 0,\n",
       " 'split': -1,\n",
       " 'n_samples': 10886,\n",
       " 'gain': 0}"
      ]
     },
     "execution_count": 112,
     "metadata": {},
     "output_type": "execute_result"
    }
   ],
   "source": [
    "# Celda 4\n",
    "\n"
   ]
  },
  {
   "cell_type": "code",
   "execution_count": null,
   "metadata": {},
   "outputs": [],
   "source": []
  },
  {
   "cell_type": "markdown",
   "metadata": {},
   "source": [
    "### Punto 5 - Árbol de decisión con librería\n",
    "En la celda 5 entrene un árbol de decisiones con la **librería sklearn**, usando las variables predictoras \"hour\" y \"workingday\" y calibre los parámetros que considere conveniente para obtener un mejor desempeño. Comente el desempeño del modelo con alguna métrica de desempeño de modelos de regresión y compare desempeño con el modelo del punto 3."
   ]
  },
  {
   "cell_type": "code",
   "execution_count": 162,
   "metadata": {},
   "outputs": [
    {
     "name": "stdout",
     "output_type": "stream",
     "text": [
      "El MSE del modelo es 20494.8788405432\n"
     ]
    },
    {
     "data": {
      "image/png": "[encoded data removed]",
      "text/plain": [
       "<Figure size 432x288 with 1 Axes>"
      ]
     },
     "metadata": {
      "needs_background": "light"
     },
     "output_type": "display_data"
    },
    {
     "name": "stdout",
     "output_type": "stream",
     "text": [
      "El MSE del modelo calibrado es 11535.678093442019 y se obtiene con un max_depth de 9\n"
     ]
    },
    {
     "data": {
      "image/png": "[encoded data removed]",
      "text/plain": [
       "<Figure size 432x288 with 1 Axes>"
      ]
     },
     "metadata": {
      "needs_background": "light"
     },
     "output_type": "display_data"
    }
   ],
   "source": [
    "# Celda 5\n",
    "from sklearn.tree import DecisionTreeRegressor\n",
    "modelo_regtree = DecisionTreeRegressor(max_depth = 2)\n",
    "modelo_regtree.fit(x_train,y_train)\n",
    "y_pred_regtree = modelo_regtree.predict(x_test)\n",
    "mse_regtree = mean_squared_error(y_test,y_pred_regtree)\n",
    "print('El MSE del modelo es', mse_regtree)\n",
    "\n",
    "max_depth_range = range(1,25)\n",
    "min_samples_leaf_range = range(2,4)\n",
    "list_mse_regtree = []\n",
    "for i in max_depth_range:\n",
    "    modelo = DecisionTreeRegressor(max_depth=i)\n",
    "    modelo.fit(x_train, y_train)\n",
    "    y_pred_regtree_i = modelo.predict(x_test)\n",
    "    insertar = mean_squared_error(y_test,y_pred_regtree_i)\n",
    "    list_mse_regtree.append(insertar)\n",
    "plt.plot(max_depth_range,list_mse_regtree)\n",
    "plt.title('MSE según nivel de profundidad')\n",
    "plt.ylabel('MSE')\n",
    "plt.show()\n",
    "\n",
    "mejor_modelo = list_mse_regtree.index(min(list_mse_regtree))+1\n",
    "\n",
    "modelo_regtree_max = DecisionTreeRegressor(max_depth = mejor_modelo)\n",
    "modelo_regtree_max.fit(x_train,y_train)\n",
    "y_pred_regtree_max = modelo_regtree_max.predict(x_test)\n",
    "mse_regtree_max = mean_squared_error(y_test,y_pred_regtree_max)\n",
    "print('El MSE del modelo calibrado es', mse_regtree_max,'y se obtiene con un max_depth de', mejor_modelo)\n",
    "\n",
    "modelos = ['reg_lin','arbol_dec_depth=2','arbol_dec_depth=9']\n",
    "mse = [mse_rl,mse_regtree,mse_regtree_max]\n",
    "\n",
    "plt.bar(x = modelos, height = mse)\n",
    "plt.title('Comparación de modelos')\n",
    "plt.ylabel('MSE')\n",
    "plt.show()"
   ]
  },
  {
   "cell_type": "markdown",
   "metadata": {},
   "source": [
    "En general, el modelo de árboles de decisión tiene un mejor performance considerando el MSE con respecto a la regresión lineal, sin embargo, se puede observar que el modelo de árboles de decisión puede mejorar significativamente si se hace varias iteraciones con la máxima profundidad que puede tomar el árbol. Al inicio, el MSE del modelo de árboles de decisión con max_depth = 2 es de 20494.87, sin embargo, después de calibrarlo, se consideró un max_depth = 9, lo que redujo el MSE a 11535.67. Después de este número, cualquier aumento en el max_depth no tiene ninguna mejora en el MSE."
   ]
  },
  {
   "cell_type": "markdown",
   "metadata": {},
   "source": [
    "## Parte B - Métodos de ensamblajes\n",
    "En esta parte del taller se usará el conjunto de datos de Popularidad de Noticias Online. El objetivo es predecir si la notica es popular o no, la populridad esta dada por la cantidad de reacciones en redes sociales. Para más detalles puede visitar el sigueinte enlace: [datos](https://archive.ics.uci.edu/ml/datasets/online+news+popularity)."
   ]
  },
  {
   "cell_type": "markdown",
   "metadata": {},
   "source": [
    "### Datos popularidad de noticias"
   ]
  },
  {
   "cell_type": "code",
   "execution_count": 164,
   "metadata": {},
   "outputs": [
    {
     "data": {
      "text/html": [
       "<div>\n",
       "<style scoped>\n",
       "    .dataframe tbody tr th:only-of-type {\n",
       "        vertical-align: middle;\n",
       "    }\n",
       "\n",
       "    .dataframe tbody tr th {\n",
       "        vertical-align: top;\n",
       "    }\n",
       "\n",
       "    .dataframe thead th {\n",
       "        text-align: right;\n",
       "    }\n",
       "</style>\n",
       "<table border=\"1\" class=\"dataframe\">\n",
       "  <thead>\n",
       "    <tr style=\"text-align: right;\">\n",
       "      <th></th>\n",
       "      <th>url</th>\n",
       "      <th>timedelta</th>\n",
       "      <th>n_tokens_title</th>\n",
       "      <th>n_tokens_content</th>\n",
       "      <th>n_unique_tokens</th>\n",
       "      <th>n_non_stop_words</th>\n",
       "      <th>n_non_stop_unique_tokens</th>\n",
       "      <th>num_hrefs</th>\n",
       "      <th>num_self_hrefs</th>\n",
       "      <th>num_imgs</th>\n",
       "      <th>...</th>\n",
       "      <th>min_positive_polarity</th>\n",
       "      <th>max_positive_polarity</th>\n",
       "      <th>avg_negative_polarity</th>\n",
       "      <th>min_negative_polarity</th>\n",
       "      <th>max_negative_polarity</th>\n",
       "      <th>title_subjectivity</th>\n",
       "      <th>title_sentiment_polarity</th>\n",
       "      <th>abs_title_subjectivity</th>\n",
       "      <th>abs_title_sentiment_polarity</th>\n",
       "      <th>Popular</th>\n",
       "    </tr>\n",
       "  </thead>\n",
       "  <tbody>\n",
       "    <tr>\n",
       "      <th>0</th>\n",
       "      <td>http://mashable.com/2014/12/10/cia-torture-rep...</td>\n",
       "      <td>28.0</td>\n",
       "      <td>9.0</td>\n",
       "      <td>188.0</td>\n",
       "      <td>0.732620</td>\n",
       "      <td>1.0</td>\n",
       "      <td>0.844262</td>\n",
       "      <td>5.0</td>\n",
       "      <td>1.0</td>\n",
       "      <td>1.0</td>\n",
       "      <td>...</td>\n",
       "      <td>0.200000</td>\n",
       "      <td>0.80</td>\n",
       "      <td>-0.487500</td>\n",
       "      <td>-0.60</td>\n",
       "      <td>-0.250000</td>\n",
       "      <td>0.9</td>\n",
       "      <td>0.8</td>\n",
       "      <td>0.4</td>\n",
       "      <td>0.8</td>\n",
       "      <td>1</td>\n",
       "    </tr>\n",
       "    <tr>\n",
       "      <th>1</th>\n",
       "      <td>http://mashable.com/2013/10/18/bitlock-kicksta...</td>\n",
       "      <td>447.0</td>\n",
       "      <td>7.0</td>\n",
       "      <td>297.0</td>\n",
       "      <td>0.653199</td>\n",
       "      <td>1.0</td>\n",
       "      <td>0.815789</td>\n",
       "      <td>9.0</td>\n",
       "      <td>4.0</td>\n",
       "      <td>1.0</td>\n",
       "      <td>...</td>\n",
       "      <td>0.160000</td>\n",
       "      <td>0.50</td>\n",
       "      <td>-0.135340</td>\n",
       "      <td>-0.40</td>\n",
       "      <td>-0.050000</td>\n",
       "      <td>0.1</td>\n",
       "      <td>-0.1</td>\n",
       "      <td>0.4</td>\n",
       "      <td>0.1</td>\n",
       "      <td>0</td>\n",
       "    </tr>\n",
       "    <tr>\n",
       "      <th>2</th>\n",
       "      <td>http://mashable.com/2013/07/24/google-glass-po...</td>\n",
       "      <td>533.0</td>\n",
       "      <td>11.0</td>\n",
       "      <td>181.0</td>\n",
       "      <td>0.660377</td>\n",
       "      <td>1.0</td>\n",
       "      <td>0.775701</td>\n",
       "      <td>4.0</td>\n",
       "      <td>3.0</td>\n",
       "      <td>1.0</td>\n",
       "      <td>...</td>\n",
       "      <td>0.136364</td>\n",
       "      <td>1.00</td>\n",
       "      <td>0.000000</td>\n",
       "      <td>0.00</td>\n",
       "      <td>0.000000</td>\n",
       "      <td>0.3</td>\n",
       "      <td>1.0</td>\n",
       "      <td>0.2</td>\n",
       "      <td>1.0</td>\n",
       "      <td>0</td>\n",
       "    </tr>\n",
       "    <tr>\n",
       "      <th>3</th>\n",
       "      <td>http://mashable.com/2013/11/21/these-are-the-m...</td>\n",
       "      <td>413.0</td>\n",
       "      <td>12.0</td>\n",
       "      <td>781.0</td>\n",
       "      <td>0.497409</td>\n",
       "      <td>1.0</td>\n",
       "      <td>0.677350</td>\n",
       "      <td>10.0</td>\n",
       "      <td>3.0</td>\n",
       "      <td>1.0</td>\n",
       "      <td>...</td>\n",
       "      <td>0.100000</td>\n",
       "      <td>1.00</td>\n",
       "      <td>-0.195701</td>\n",
       "      <td>-0.40</td>\n",
       "      <td>-0.071429</td>\n",
       "      <td>0.0</td>\n",
       "      <td>0.0</td>\n",
       "      <td>0.5</td>\n",
       "      <td>0.0</td>\n",
       "      <td>0</td>\n",
       "    </tr>\n",
       "    <tr>\n",
       "      <th>4</th>\n",
       "      <td>http://mashable.com/2014/02/11/parking-ticket-...</td>\n",
       "      <td>331.0</td>\n",
       "      <td>8.0</td>\n",
       "      <td>177.0</td>\n",
       "      <td>0.685714</td>\n",
       "      <td>1.0</td>\n",
       "      <td>0.830357</td>\n",
       "      <td>3.0</td>\n",
       "      <td>2.0</td>\n",
       "      <td>1.0</td>\n",
       "      <td>...</td>\n",
       "      <td>0.100000</td>\n",
       "      <td>0.55</td>\n",
       "      <td>-0.175000</td>\n",
       "      <td>-0.25</td>\n",
       "      <td>-0.100000</td>\n",
       "      <td>0.0</td>\n",
       "      <td>0.0</td>\n",
       "      <td>0.5</td>\n",
       "      <td>0.0</td>\n",
       "      <td>0</td>\n",
       "    </tr>\n",
       "  </tbody>\n",
       "</table>\n",
       "<p>5 rows × 61 columns</p>\n",
       "</div>"
      ],
      "text/plain": [
       "                                                 url  timedelta  \\\n",
       "0  http://mashable.com/2014/12/10/cia-torture-rep...       28.0   \n",
       "1  http://mashable.com/2013/10/18/bitlock-kicksta...      447.0   \n",
       "2  http://mashable.com/2013/07/24/google-glass-po...      533.0   \n",
       "3  http://mashable.com/2013/11/21/these-are-the-m...      413.0   \n",
       "4  http://mashable.com/2014/02/11/parking-ticket-...      331.0   \n",
       "\n",
       "   n_tokens_title  n_tokens_content  n_unique_tokens  n_non_stop_words  \\\n",
       "0             9.0             188.0         0.732620               1.0   \n",
       "1             7.0             297.0         0.653199               1.0   \n",
       "2            11.0             181.0         0.660377               1.0   \n",
       "3            12.0             781.0         0.497409               1.0   \n",
       "4             8.0             177.0         0.685714               1.0   \n",
       "\n",
       "   n_non_stop_unique_tokens  num_hrefs  num_self_hrefs  num_imgs  ...  \\\n",
       "0                  0.844262        5.0             1.0       1.0  ...   \n",
       "1                  0.815789        9.0             4.0       1.0  ...   \n",
       "2                  0.775701        4.0             3.0       1.0  ...   \n",
       "3                  0.677350       10.0             3.0       1.0  ...   \n",
       "4                  0.830357        3.0             2.0       1.0  ...   \n",
       "\n",
       "   min_positive_polarity  max_positive_polarity  avg_negative_polarity  \\\n",
       "0               0.200000                   0.80              -0.487500   \n",
       "1               0.160000                   0.50              -0.135340   \n",
       "2               0.136364                   1.00               0.000000   \n",
       "3               0.100000                   1.00              -0.195701   \n",
       "4               0.100000                   0.55              -0.175000   \n",
       "\n",
       "   min_negative_polarity  max_negative_polarity  title_subjectivity  \\\n",
       "0                  -0.60              -0.250000                 0.9   \n",
       "1                  -0.40              -0.050000                 0.1   \n",
       "2                   0.00               0.000000                 0.3   \n",
       "3                  -0.40              -0.071429                 0.0   \n",
       "4                  -0.25              -0.100000                 0.0   \n",
       "\n",
       "   title_sentiment_polarity  abs_title_subjectivity  \\\n",
       "0                       0.8                     0.4   \n",
       "1                      -0.1                     0.4   \n",
       "2                       1.0                     0.2   \n",
       "3                       0.0                     0.5   \n",
       "4                       0.0                     0.5   \n",
       "\n",
       "   abs_title_sentiment_polarity  Popular  \n",
       "0                           0.8        1  \n",
       "1                           0.1        0  \n",
       "2                           1.0        0  \n",
       "3                           0.0        0  \n",
       "4                           0.0        0  \n",
       "\n",
       "[5 rows x 61 columns]"
      ]
     },
     "execution_count": 164,
     "metadata": {},
     "output_type": "execute_result"
    }
   ],
   "source": [
    "# Lectura de la información de archivo .csv\n",
    "df = pd.read_csv('https://raw.githubusercontent.com/albahnsen/MIAD_ML_and_NLP/main/datasets/mashable.csv', index_col=0)\n",
    "df.head()"
   ]
  },
  {
   "cell_type": "code",
   "execution_count": 165,
   "metadata": {},
   "outputs": [
    {
     "data": {
      "text/plain": [
       "0.5"
      ]
     },
     "execution_count": 165,
     "metadata": {},
     "output_type": "execute_result"
    }
   ],
   "source": [
    "# Definición variable de interes y variables predictoras\n",
    "X = df.drop(['url', 'Popular'], axis=1)\n",
    "y = df['Popular']\n",
    "y.mean()"
   ]
  },
  {
   "cell_type": "code",
   "execution_count": 166,
   "metadata": {},
   "outputs": [],
   "source": [
    "# División de la muestra en set de entrenamiento y prueba\n",
    "from sklearn.model_selection import train_test_split\n",
    "X_train, X_test, y_train, y_test = train_test_split(X, y, random_state=1)"
   ]
  },
  {
   "cell_type": "markdown",
   "metadata": {},
   "source": [
    "### Punto 6 - Árbol de decisión y regresión logística\n",
    "En la celda 6 construya un árbol de decisión y una regresión logística. Para el árbol calibre al menos un parámetro y evalúe el desempeño de cada modelo usando las métricas de Accuracy y F1-Score."
   ]
  },
  {
   "cell_type": "code",
   "execution_count": 193,
   "metadata": {},
   "outputs": [
    {
     "name": "stdout",
     "output_type": "stream",
     "text": [
      "El accuracy del modelo de regresión logística es 0.6133333333333333\n",
      "El accuracy del modelo de árbol de decisión sin calibración es 0.5426666666666666\n",
      "F1-Score del modelo regresión logística es 0.6102150537634409\n",
      "F1-Score del modelo árbol de decisión sin calibración es 0.5377358490566038\n"
     ]
    },
    {
     "data": {
      "image/png": "[encoded data removed]",
      "text/plain": [
       "<Figure size 432x288 with 1 Axes>"
      ]
     },
     "metadata": {
      "needs_background": "light"
     },
     "output_type": "display_data"
    },
    {
     "data": {
      "image/png": "[encoded data removed]",
      "text/plain": [
       "<Figure size 432x288 with 1 Axes>"
      ]
     },
     "metadata": {
      "needs_background": "light"
     },
     "output_type": "display_data"
    },
    {
     "name": "stdout",
     "output_type": "stream",
     "text": [
      "El modelo calibrado muestra mejor accuracy cuando el mínimo de muestras para la división es 5\n",
      "El accuracy del modelo árbol de decisión calibrado es 0.548\n",
      "F1-Score del modelo árbol de decisión calibrado es 0.5509933774834437\n"
     ]
    },
    {
     "data": {
      "image/png": "[encoded data removed]",
      "text/plain": [
       "<Figure size 432x288 with 1 Axes>"
      ]
     },
     "metadata": {
      "needs_background": "light"
     },
     "output_type": "display_data"
    },
    {
     "data": {
      "image/png": "[encoded data removed]",
      "text/plain": [
       "<Figure size 432x288 with 1 Axes>"
      ]
     },
     "metadata": {
      "needs_background": "light"
     },
     "output_type": "display_data"
    }
   ],
   "source": [
    "# Celda 6\n",
    "from sklearn.tree import DecisionTreeClassifier\n",
    "from sklearn.linear_model import LogisticRegression\n",
    "from sklearn.metrics import accuracy_score\n",
    "from sklearn.metrics import f1_score\n",
    "\n",
    "### Entrenar modelos\n",
    "\n",
    "modelo_dtclass = DecisionTreeClassifier(min_samples_split = 10)\n",
    "modelo_logreg = LogisticRegression()\n",
    "modelo_dtclass.fit(X_train,y_train)\n",
    "modelo_logreg.fit(X_train,y_train)\n",
    "\n",
    "### Generar predicciones\n",
    "\n",
    "y_pred_dtclass = modelo_dtclass.predict(X_test)\n",
    "y_pred_logreg = modelo_logreg.predict(X_test)\n",
    "\n",
    "### Generar medidas de desempeño\n",
    "\n",
    "accuracy_dtclass = accuracy_score(y_test, y_pred_dtclass)\n",
    "accuracy_logreg = accuracy_score(y_test, y_pred_logreg)\n",
    "print('El accuracy del modelo de regresión logística es', accuracy_logreg)\n",
    "print('El accuracy del modelo de árbol de decisión sin calibración es', accuracy_dtclass)\n",
    "f1_dtclass = f1_score(y_test,y_pred_dtclass)\n",
    "f1_logreg = f1_score(y_test,y_pred_logreg)\n",
    "\n",
    "print('F1-Score del modelo regresión logística es',f1_logreg)\n",
    "print('F1-Score del modelo árbol de decisión sin calibración es',f1_dtclass)\n",
    "\n",
    "### Calibración de árbol de decisión\n",
    "\n",
    "range_min_samples = range(2,12)\n",
    "accuracy_cal = []\n",
    "f1_cal = []\n",
    "for i in range_min_samples:\n",
    "    modelo_dtclass_cal = DecisionTreeClassifier(min_samples_split=i)\n",
    "    modelo_dtclass_cal.fit(X_train, y_train)\n",
    "    y_pred_dtclass_cal = modelo_dtclass_cal.predict(X_test)\n",
    "    accuracy_dtclass_cal = accuracy_score(y_test,y_pred_dtclass_cal)\n",
    "    f1_dtclass_cal = f1_score(y_test,y_pred_dtclass_cal)\n",
    "    accuracy_cal.append(accuracy_dtclass_cal)\n",
    "    f1_cal.append(f1_dtclass_cal)\n",
    "\n",
    "sns.lineplot(x = range_min_samples, y = accuracy_cal)\n",
    "plt.title('Accuracy - Modelos calibrados por min_samples_split')\n",
    "plt.xlabel('min_samples_split')\n",
    "plt.show()\n",
    "\n",
    "sns.lineplot(x = range_min_samples, y = f1_cal)\n",
    "plt.title('F1_score - Modelos calibrados por min_samples_split')\n",
    "plt.xlabel('min_samples_split')\n",
    "plt.show()\n",
    "\n",
    "\n",
    "max_accuracy = accuracy_cal.index(max(accuracy_cal))+2\n",
    "print('El modelo calibrado muestra mejor accuracy cuando el mínimo de muestras para la división es',max_accuracy)\n",
    "max_f1 = f1_cal.index(max(f1_cal))+2\n",
    "\n",
    "\n",
    "### Mejor modelo después de calibración\n",
    "\n",
    "modelo_dtclass_max = DecisionTreeClassifier(min_samples_split = max_accuracy)\n",
    "modelo_dtclass_max.fit(X_train, y_train)\n",
    "y_pred_dtclass_max = modelo_dtclass_max.predict(X_test)\n",
    "accuracy_dtclass_max = accuracy_score(y_test,y_pred_dtclass_max)\n",
    "f1_dtclass_max = f1_score(y_test,y_pred_dtclass_max)\n",
    "print('El accuracy del modelo árbol de decisión calibrado es',accuracy_dtclass_max)\n",
    "print('F1-Score del modelo árbol de decisión calibrado es',f1_dtclass_max)\n",
    "\n",
    "\n",
    "### Comparar modelos\n",
    "\n",
    "modelos_usados =['reg_logis','arbol_decision','arbol_decision_cal']\n",
    "accuracy_evaluacion = [accuracy_logreg,accuracy_dtclass, accuracy_dtclass_max]\n",
    "f1_evaluacion = [f1_logreg,f1_dtclass,f1_dtclass_max]\n",
    "\n",
    "### Gráficos\n",
    "\n",
    "plt.bar(x = modelos_usados, height = accuracy_evaluacion)\n",
    "plt.title('Comparación de accuracy')\n",
    "plt.show()\n",
    "\n",
    "plt.bar(x = modelos_usados, height = f1_evaluacion)\n",
    "plt.title('Comparación de F1-Score')\n",
    "plt.show()\n",
    "\n"
   ]
  },
  {
   "cell_type": "markdown",
   "metadata": {},
   "source": [
    "### Punto 7 - Votación Mayoritaria\n",
    "En la celda 7 elabore un esamble con la metodología de **Votación mayoritaria** compuesto por 300 muestras bagged para cada uno de los siguientes escenarios:\n",
    "\n",
    "-100 árboles de decisión donde max_depth = None\\\n",
    "-100 árboles de decisión donde max_depth = 2\\\n",
    "-100 regresiones logísticas\n",
    "\n",
    "Evalúe los modelos utilizando las métricas de Accuracy y F1-Score."
   ]
  },
  {
   "cell_type": "code",
   "execution_count": 238,
   "metadata": {},
   "outputs": [
    {
     "name": "stdout",
     "output_type": "stream",
     "text": [
      "El accuracy del modelo dectree=None es de: 0.64\n",
      "F1-Score del modelo dectree=None es de: 0.642384105960265\n",
      "El accuracy del modelo dectree=2 es de: 0.6446666666666667\n",
      "F1-Score del modelo dectree=2 es de: 0.6439545758183033\n",
      "El accuracy del modelo reglog es de: 0.6173333333333333\n",
      "F1-Score del modelo reglog es de: 0.6116373477672531\n"
     ]
    },
    {
     "data": {
      "image/png": "[encoded data removed]",
      "text/plain": [
       "<Figure size 432x288 with 1 Axes>"
      ]
     },
     "metadata": {
      "needs_background": "light"
     },
     "output_type": "display_data"
    },
    {
     "data": {
      "image/png": "[encoded data removed]",
      "text/plain": [
       "<Figure size 432x288 with 1 Axes>"
      ]
     },
     "metadata": {
      "needs_background": "light"
     },
     "output_type": "display_data"
    }
   ],
   "source": [
    "# Celda 7\n",
    "\n",
    "from sklearn.ensemble import BaggingClassifier\n",
    "dectree = BaggingClassifier(base_estimator=DecisionTreeClassifier(max_depth = None), n_estimators=100, bootstrap=True,\n",
    "                        random_state=42, n_jobs=-1, oob_score=True)\n",
    "dectree_dos = BaggingClassifier(base_estimator=DecisionTreeClassifier(max_depth = 2), n_estimators=100, bootstrap=True,\n",
    "                        random_state=42, n_jobs=-1, oob_score=True)\n",
    "reglog = BaggingClassifier(base_estimator=LogisticRegression(), n_estimators=100, bootstrap=True,\n",
    "                        random_state=42, n_jobs=-1, oob_score=True)\n",
    "\n",
    "dectree.fit(X_train, y_train)\n",
    "dectree_dos.fit(X_train, y_train)\n",
    "reglog.fit(X_train, y_train)\n",
    "\n",
    "y_pred_dectree = dectree.predict(X_test)\n",
    "y_pred_dectree_dos = dectree_dos.predict(X_test)\n",
    "y_pred_reglog = reglog.predict(X_test)\n",
    "\n",
    "accuracy_dectree = accuracy_score(y_pred_dectree,y_test)\n",
    "accuracy_dectree_dos = accuracy_score(y_pred_dectree_dos,y_test)\n",
    "accuracy_reglog = accuracy_score(y_pred_reglog,y_test)\n",
    "\n",
    "f1_dectree = f1_score(y_pred_dectree,y_test)\n",
    "f1_dectree_dos = f1_score(y_pred_dectree_dos, y_test)\n",
    "f1_reglog = f1_score(y_pred_reglog, y_test)\n",
    "\n",
    "modelos_mayoritaria = ['dectree=None','dectree=2','reglog']\n",
    "accuracy_mayo = [accuracy_dectree, accuracy_dectree_dos, accuracy_reglog]\n",
    "f1_mayo = [f1_dectree, f1_dectree_dos, f1_reglog]\n",
    "\n",
    "\n",
    "for i in range(0,len(accuracy_mayo)):\n",
    "    mensaje = 'El accuracy del modelo '+modelos_mayoritaria[i] + ' es de: ' + str(accuracy_mayo[i])\n",
    "    mensaje_dos = 'F1-Score del modelo '+modelos_mayoritaria[i] + ' es de: ' + str(f1_mayo[i])\n",
    "    print(mensaje)\n",
    "    print(mensaje_dos)\n",
    "\n",
    "\n",
    "plt.bar(x = modelos_mayoritaria, height = accuracy_mayo)\n",
    "plt.title('Comparación de accuracy - Votación mayoritaria')\n",
    "plt.show()\n",
    "\n",
    "\n",
    "plt.bar(x = modelos_mayoritaria, height = f1_mayo)\n",
    "plt.title('Comparación de F1-Score - Votación mayoritaria')\n",
    "plt.show()"
   ]
  },
  {
   "cell_type": "markdown",
   "metadata": {},
   "source": [
    "### Punto 8 - Votación Ponderada\n",
    "En la celda 8 elabore un ensamble con la metodología de **Votación ponderada** compuesto por 300 muestras bagged para los mismos tres escenarios del punto 7. Evalúe los modelos utilizando las métricas de Accuracy y F1-Score"
   ]
  },
  {
   "cell_type": "code",
   "execution_count": 239,
   "metadata": {},
   "outputs": [
    {
     "name": "stdout",
     "output_type": "stream",
     "text": [
      "El accuracy del modelo dectree=None es de: 0.6453333333333333\n",
      "F1-Score del modelo dectree=None es de: 0.6513761467889909\n",
      "El accuracy del modelo dectree=2 es de: 0.6453333333333333\n",
      "F1-Score del modelo dectree=2 es de: 0.6448598130841121\n",
      "El accuracy del modelo reglog es de: 0.6173333333333333\n",
      "F1-Score del modelo reglog es de: 0.6121621621621622\n"
     ]
    },
    {
     "data": {
      "image/png": "[encoded data removed]",
      "text/plain": [
       "<Figure size 432x288 with 1 Axes>"
      ]
     },
     "metadata": {
      "needs_background": "light"
     },
     "output_type": "display_data"
    },
    {
     "data": {
      "image/png": "[encoded data removed]",
      "text/plain": [
       "<Figure size 432x288 with 1 Axes>"
      ]
     },
     "metadata": {
      "needs_background": "light"
     },
     "output_type": "display_data"
    }
   ],
   "source": [
    "# Celda 8\n",
    "def votacion_ponderada(dectree):\n",
    "\n",
    "    errors = np.zeros(dectree.n_estimators)\n",
    "    y_pred_all_ = np.zeros((X_test.shape[0], dectree.n_estimators))\n",
    "\n",
    "    for i in range(dectree.n_estimators):\n",
    "        oob_sample = ~dectree.estimators_samples_[i]\n",
    "        y_pred_ = dectree.estimators_[i].predict(X_train.values[oob_sample])\n",
    "        errors[i] = accuracy_score(y_pred_, y_train.values[oob_sample])\n",
    "        y_pred_all_[:, i] = dectree.estimators_[i].predict(X_test)\n",
    "    \n",
    "    alpha = (1 - errors) / (1 - errors).sum()\n",
    "    y_pred = (np.sum(y_pred_all_ * alpha, axis=1) >= 0.5).astype(np.int)\n",
    "    return y_pred\n",
    "\n",
    "\n",
    "y_pred_dectree_pon = votacion_ponderada(dectree)\n",
    "y_pred_dectree_dos_pon = votacion_ponderada(dectree_dos)\n",
    "y_pred_reglog_pon = votacion_ponderada(reglog)\n",
    "\n",
    "accuracy_pon = []\n",
    "f1_pon = []\n",
    "modelos_pon = ['dectree=None','dectree=2','reglog']\n",
    "predicciones = [y_pred_dectree_pon, y_pred_dectree_dos_pon,y_pred_reglog_pon]\n",
    "for i in predicciones:\n",
    "    accuracy = accuracy_score(i,y_test)\n",
    "    f1score = f1_score(i,y_test)\n",
    "    accuracy_pon.append(accuracy)\n",
    "    f1_pon.append(f1score)\n",
    "\n",
    "\n",
    "for i in range(0,len(accuracy_pon)):\n",
    "    mensaje = 'El accuracy del modelo '+modelos_pon[i] + ' es de: ' + str(accuracy_pon[i])\n",
    "    mensaje_dos = 'F1-Score del modelo '+modelos_pon[i] + ' es de: ' + str(f1_pon[i])\n",
    "    print(mensaje)\n",
    "    print(mensaje_dos)\n",
    "\n",
    "plt.bar(x = modelos_pon, height = accuracy_pon)\n",
    "plt.title('Comparación de accuracy - Votación ponderada')\n",
    "plt.show()\n",
    "\n",
    "\n",
    "plt.bar(x = modelos_pon, height = f1_pon)\n",
    "plt.title('Comparación de F1-Score - Votación ponderada')\n",
    "plt.show()"
   ]
  },
  {
   "cell_type": "markdown",
   "metadata": {},
   "source": [
    "### Punto 9 - Comparación y análisis de resultados\n",
    "En la celda 9 comente sobre los resultados obtenidos con las metodologías usadas en los puntos 7 y 8, compare los resultados y enuncie posibles ventajas o desventajas de cada una de ellas."
   ]
  },
  {
   "cell_type": "code",
   "execution_count": 240,
   "metadata": {},
   "outputs": [
    {
     "data": {
      "image/png": "[encoded data removed]",
      "text/plain": [
       "<Figure size 1120x480 with 1 Axes>"
      ]
     },
     "metadata": {
      "needs_background": "light"
     },
     "output_type": "display_data"
    },
    {
     "data": {
      "image/png": "[encoded data removed]",
      "text/plain": [
       "<Figure size 1120x480 with 1 Axes>"
      ]
     },
     "metadata": {
      "needs_background": "light"
     },
     "output_type": "display_data"
    },
    {
     "name": "stdout",
     "output_type": "stream",
     "text": [
      "('El accuracy del modelo dectree=None_mayo', ' es de: 0.64')\n",
      "('F1-Score del modelodectree=None_mayo', ' es de: 0.642384105960265')\n",
      "('El accuracy del modelo dectree=2_mayo', ' es de: 0.6446666666666667')\n",
      "('F1-Score del modelodectree=2_mayo', ' es de: 0.6439545758183033')\n",
      "('El accuracy del modelo reglog_mayo', ' es de: 0.6173333333333333')\n",
      "('F1-Score del modeloreglog_mayo', ' es de: 0.6116373477672531')\n",
      "('El accuracy del modelo dectree=None_pon', ' es de: 0.6453333333333333')\n",
      "('F1-Score del modelodectree=None_pon', ' es de: 0.6513761467889909')\n",
      "('El accuracy del modelo dectree=2_pon', ' es de: 0.6453333333333333')\n",
      "('F1-Score del modelodectree=2_pon', ' es de: 0.6448598130841121')\n",
      "('El accuracy del modelo reglog_pon', ' es de: 0.6173333333333333')\n",
      "('F1-Score del modeloreglog_pon', ' es de: 0.6121621621621622')\n"
     ]
    }
   ],
   "source": [
    "# Celda 9\n",
    "from matplotlib.pyplot import figure\n",
    "modelos_final = ['dectree=None_mayo','dectree=2_mayo','reglog_mayo','dectree=None_pon','dectree=2_pon','reglog_pon']\n",
    "accuracy_final = accuracy_mayo.copy()\n",
    "accuracy_final.extend(accuracy_pon)\n",
    "f1_final = f1_mayo.copy()\n",
    "f1_final.extend(f1_pon)\n",
    "\n",
    "figure(figsize=(14, 6), dpi=80)\n",
    "\n",
    "plt.bar(x = modelos_final, height = accuracy_final)\n",
    "plt.show()\n",
    "\n",
    "figure(figsize=(14, 6), dpi=80)\n",
    "\n",
    "plt.bar(x = modelos_final, height = f1_final)\n",
    "plt.show()\n",
    "\n",
    "for i in range(0,6):\n",
    "    mensaje = 'El accuracy del modelo '+ modelos_final[i],' es de: ' + str(accuracy_final[i])\n",
    "    mensaje_dos = 'F1-Score del modelo'+ modelos_final[i],' es de: ' + str(f1_final[i])\n",
    "    print(mensaje)\n",
    "    print(mensaje_dos)"
   ]
  },
  {
   "cell_type": "markdown",
   "metadata": {},
   "source": [
    "Como comentario final, se puede decir que, a nivel de accuracy, los árboles de decisión tienen un mejor performance al momento de aplicar estas técnicas de ensamblaje. Ambas técnicas presentan valores similares al momento de medir el accuracy y el F1-Score, sin embargo, sí presentan una mejoría con respecto a no usar ninguna técnica. En ese sentido, se recomienda el uso de estas técnicas para poder mejorar el performance de estos algoritmos."
   ]
  }
 ],
 "metadata": {
  "kernelspec": {
   "display_name": "Python 3",
   "language": "python",
   "name": "python3"
  },
  "language_info": {
   "codemirror_mode": {
    "name": "ipython",
    "version": 3
   },
   "file_extension": ".py",
   "mimetype": "text/x-python",
   "name": "python",
   "nbconvert_exporter": "python",
   "pygments_lexer": "ipython3",
   "version": "3.9.6"
  }
 },
 "nbformat": 4,
 "nbformat_minor": 4
}
