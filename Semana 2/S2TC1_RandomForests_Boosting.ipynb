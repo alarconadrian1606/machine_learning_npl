{
 "cells": [
  {
   "cell_type": "markdown",
   "metadata": {},
   "source": [
    "![image info](https://raw.githubusercontent.com/albahnsen/MIAD_ML_and_NLP/main/images/banner_1.png)"
   ]
  },
  {
   "cell_type": "markdown",
   "metadata": {},
   "source": [
    "# Taller: Construcción e implementación de modelos Bagging, Random Forest y XGBoost\n",
    "\n",
    "En este taller podrán poner en práctica sus conocimientos sobre la construcción e implementación de modelos de Bagging, Random Forest y XGBoost. El taller está constituido por 8 puntos, en los cuales deberan seguir las intrucciones de cada numeral para su desarrollo."
   ]
  },
  {
   "cell_type": "markdown",
   "metadata": {},
   "source": [
    "## Datos predicción precio de automóviles\n",
    "\n",
    "En este taller se usará el conjunto de datos de Car Listings de Kaggle donde cada observación representa el precio de un automóvil teniendo en cuenta distintas variables como año, marca, modelo, entre otras. El objetivo es predecir si el precio del automóvil es alto o no. Para más detalles puede visitar el siguiente enlace: [datos](https://www.kaggle.com/jpayne/852k-used-car-listings)."
   ]
  },
  {
   "cell_type": "code",
   "execution_count": 1,
   "metadata": {},
   "outputs": [],
   "source": [
    "import warnings\n",
    "warnings.filterwarnings('ignore')\n",
    "\n",
    "import pandas as pd\n",
    "import numpy as np\n",
    "\n",
    "from sklearn.tree import DecisionTreeClassifier\n",
    "from sklearn.ensemble import RandomForestClassifier\n",
    "from sklearn.ensemble import BaggingClassifier"
   ]
  },
  {
   "cell_type": "code",
   "execution_count": 2,
   "metadata": {},
   "outputs": [],
   "source": [
    "# Importación de librerías\n",
    "%matplotlib inline\n",
    "import pandas as pd\n",
    "\n",
    "# Lectura de la información de archivo .csv\n",
    "data = pd.read_csv('https://raw.githubusercontent.com/albahnsen/MIAD_ML_and_NLP/main/datasets/dataTrain_carListings.zip')"
   ]
  },
  {
   "cell_type": "code",
   "execution_count": 3,
   "metadata": {},
   "outputs": [
    {
     "data": {
      "text/html": [
       "<div>\n",
       "<style scoped>\n",
       "    .dataframe tbody tr th:only-of-type {\n",
       "        vertical-align: middle;\n",
       "    }\n",
       "\n",
       "    .dataframe tbody tr th {\n",
       "        vertical-align: top;\n",
       "    }\n",
       "\n",
       "    .dataframe thead th {\n",
       "        text-align: right;\n",
       "    }\n",
       "</style>\n",
       "<table border=\"1\" class=\"dataframe\">\n",
       "  <thead>\n",
       "    <tr style=\"text-align: right;\">\n",
       "      <th></th>\n",
       "      <th>Price</th>\n",
       "      <th>Year</th>\n",
       "      <th>Mileage</th>\n",
       "      <th>State</th>\n",
       "      <th>Make</th>\n",
       "      <th>Model</th>\n",
       "    </tr>\n",
       "  </thead>\n",
       "  <tbody>\n",
       "    <tr>\n",
       "      <th>0</th>\n",
       "      <td>34995</td>\n",
       "      <td>2017</td>\n",
       "      <td>9913</td>\n",
       "      <td>FL</td>\n",
       "      <td>Jeep</td>\n",
       "      <td>Wrangler</td>\n",
       "    </tr>\n",
       "    <tr>\n",
       "      <th>1</th>\n",
       "      <td>37895</td>\n",
       "      <td>2015</td>\n",
       "      <td>20578</td>\n",
       "      <td>OH</td>\n",
       "      <td>Chevrolet</td>\n",
       "      <td>Tahoe4WD</td>\n",
       "    </tr>\n",
       "    <tr>\n",
       "      <th>2</th>\n",
       "      <td>18430</td>\n",
       "      <td>2012</td>\n",
       "      <td>83716</td>\n",
       "      <td>TX</td>\n",
       "      <td>BMW</td>\n",
       "      <td>X5AWD</td>\n",
       "    </tr>\n",
       "    <tr>\n",
       "      <th>3</th>\n",
       "      <td>24681</td>\n",
       "      <td>2014</td>\n",
       "      <td>28729</td>\n",
       "      <td>OH</td>\n",
       "      <td>Cadillac</td>\n",
       "      <td>SRXLuxury</td>\n",
       "    </tr>\n",
       "    <tr>\n",
       "      <th>4</th>\n",
       "      <td>26998</td>\n",
       "      <td>2013</td>\n",
       "      <td>64032</td>\n",
       "      <td>CO</td>\n",
       "      <td>Jeep</td>\n",
       "      <td>Wrangler</td>\n",
       "    </tr>\n",
       "  </tbody>\n",
       "</table>\n",
       "</div>"
      ],
      "text/plain": [
       "   Price  Year  Mileage State       Make      Model\n",
       "0  34995  2017     9913    FL       Jeep   Wrangler\n",
       "1  37895  2015    20578    OH  Chevrolet   Tahoe4WD\n",
       "2  18430  2012    83716    TX        BMW      X5AWD\n",
       "3  24681  2014    28729    OH   Cadillac  SRXLuxury\n",
       "4  26998  2013    64032    CO       Jeep   Wrangler"
      ]
     },
     "execution_count": 3,
     "metadata": {},
     "output_type": "execute_result"
    }
   ],
   "source": [
    "data.head()"
   ]
  },
  {
   "cell_type": "code",
   "execution_count": 4,
   "metadata": {},
   "outputs": [
    {
     "data": {
      "text/html": [
       "<div>\n",
       "<style scoped>\n",
       "    .dataframe tbody tr th:only-of-type {\n",
       "        vertical-align: middle;\n",
       "    }\n",
       "\n",
       "    .dataframe tbody tr th {\n",
       "        vertical-align: top;\n",
       "    }\n",
       "\n",
       "    .dataframe thead th {\n",
       "        text-align: right;\n",
       "    }\n",
       "</style>\n",
       "<table border=\"1\" class=\"dataframe\">\n",
       "  <thead>\n",
       "    <tr style=\"text-align: right;\">\n",
       "      <th></th>\n",
       "      <th>Year</th>\n",
       "      <th>Mileage</th>\n",
       "      <th>M_Camry</th>\n",
       "      <th>M_Camry4dr</th>\n",
       "      <th>M_CamryBase</th>\n",
       "      <th>M_CamryL</th>\n",
       "      <th>M_CamryLE</th>\n",
       "      <th>M_CamrySE</th>\n",
       "      <th>M_CamryXLE</th>\n",
       "      <th>HighPrice</th>\n",
       "    </tr>\n",
       "  </thead>\n",
       "  <tbody>\n",
       "    <tr>\n",
       "      <th>7</th>\n",
       "      <td>2014</td>\n",
       "      <td>6480</td>\n",
       "      <td>0</td>\n",
       "      <td>0</td>\n",
       "      <td>0</td>\n",
       "      <td>1</td>\n",
       "      <td>0</td>\n",
       "      <td>0</td>\n",
       "      <td>0</td>\n",
       "      <td>1</td>\n",
       "    </tr>\n",
       "    <tr>\n",
       "      <th>11</th>\n",
       "      <td>2014</td>\n",
       "      <td>39972</td>\n",
       "      <td>0</td>\n",
       "      <td>0</td>\n",
       "      <td>0</td>\n",
       "      <td>0</td>\n",
       "      <td>1</td>\n",
       "      <td>0</td>\n",
       "      <td>0</td>\n",
       "      <td>0</td>\n",
       "    </tr>\n",
       "    <tr>\n",
       "      <th>167</th>\n",
       "      <td>2016</td>\n",
       "      <td>18989</td>\n",
       "      <td>0</td>\n",
       "      <td>0</td>\n",
       "      <td>0</td>\n",
       "      <td>0</td>\n",
       "      <td>0</td>\n",
       "      <td>1</td>\n",
       "      <td>0</td>\n",
       "      <td>1</td>\n",
       "    </tr>\n",
       "    <tr>\n",
       "      <th>225</th>\n",
       "      <td>2014</td>\n",
       "      <td>51330</td>\n",
       "      <td>0</td>\n",
       "      <td>0</td>\n",
       "      <td>0</td>\n",
       "      <td>1</td>\n",
       "      <td>0</td>\n",
       "      <td>0</td>\n",
       "      <td>0</td>\n",
       "      <td>0</td>\n",
       "    </tr>\n",
       "    <tr>\n",
       "      <th>270</th>\n",
       "      <td>2007</td>\n",
       "      <td>116065</td>\n",
       "      <td>0</td>\n",
       "      <td>1</td>\n",
       "      <td>0</td>\n",
       "      <td>0</td>\n",
       "      <td>0</td>\n",
       "      <td>0</td>\n",
       "      <td>0</td>\n",
       "      <td>0</td>\n",
       "    </tr>\n",
       "  </tbody>\n",
       "</table>\n",
       "</div>"
      ],
      "text/plain": [
       "     Year  Mileage  M_Camry  M_Camry4dr  M_CamryBase  M_CamryL  M_CamryLE  \\\n",
       "7    2014     6480        0           0            0         1          0   \n",
       "11   2014    39972        0           0            0         0          1   \n",
       "167  2016    18989        0           0            0         0          0   \n",
       "225  2014    51330        0           0            0         1          0   \n",
       "270  2007   116065        0           1            0         0          0   \n",
       "\n",
       "     M_CamrySE  M_CamryXLE  HighPrice  \n",
       "7            0           0          1  \n",
       "11           0           0          0  \n",
       "167          1           0          1  \n",
       "225          0           0          0  \n",
       "270          0           0          0  "
      ]
     },
     "execution_count": 4,
     "metadata": {},
     "output_type": "execute_result"
    }
   ],
   "source": [
    "# Preprocesamiento de datos para el taller\n",
    "data = data.loc[data['Model'].str.contains('Camry')].drop(['Make', 'State'], axis=1)\n",
    "data = data.join(pd.get_dummies(data['Model'], prefix='M'))\n",
    "data['HighPrice'] = (data['Price'] > data['Price'].mean()).astype(int)\n",
    "data = data.drop(['Model', 'Price'], axis=1)\n",
    "\n",
    "# Visualización dataset\n",
    "data.head()"
   ]
  },
  {
   "cell_type": "code",
   "execution_count": 5,
   "metadata": {},
   "outputs": [],
   "source": [
    "# Separación de variables predictoras (X) y variable de interés (y)\n",
    "y = data['HighPrice']\n",
    "X = data.drop(['HighPrice'], axis=1)"
   ]
  },
  {
   "cell_type": "code",
   "execution_count": 6,
   "metadata": {},
   "outputs": [],
   "source": [
    "# Separación de datos en set de entrenamiento y test\n",
    "from sklearn.model_selection import train_test_split\n",
    "X_train, X_test, y_train, y_test = train_test_split(X, y, test_size=0.33, random_state=42)"
   ]
  },
  {
   "cell_type": "markdown",
   "metadata": {},
   "source": [
    "### Punto 1 - Árbol de decisión manual\n",
    "\n",
    "En la celda 1 creen un árbol de decisión **manualmente**  que considere los set de entrenamiento y test definidos anteriormente y presenten el acurracy del modelo en el set de test."
   ]
  },
  {
   "cell_type": "code",
   "execution_count": 7,
   "metadata": {},
   "outputs": [],
   "source": [
    "# Definición de la función que calcula el gini index\n",
    "\n",
    "def gini(y):\n",
    "    \n",
    "    \"\"\"\n",
    "    Función que calcula el gini index para conjunto de datos \n",
    "    \n",
    "    PARAMETERS  \n",
    "        y [DataFrame]: que contiene la variable objetivo\n",
    "    RETURN\n",
    "        gini_index [float]: Valor del gini index calculado\n",
    "    \"\"\"\n",
    "    # Si no se tienen observaciones, la ganancia es 0\n",
    "    if y.shape[0] == 0:\n",
    "        return 0\n",
    "    # De lo contrario, se calcula\n",
    "    else:\n",
    "        return 1 - (y.mean()**2 + (1 - y.mean())**2)"
   ]
  },
  {
   "cell_type": "code",
   "execution_count": 8,
   "metadata": {},
   "outputs": [],
   "source": [
    "# Cálculo de ganancia o impureza de la bifurcación\n",
    "\n",
    "def gini_impurity(X_col, y, split):\n",
    "    \n",
    "    \"\"\"\n",
    "    Función para calcular la ganancia en la variable objetivo 'y' de la bifurcación resultante \n",
    "    de la división del a variable 'X_col' en el valor 'split'\n",
    "    \n",
    "    PARAMETERS\n",
    "        X_col [int]  :  posición de la columna a la que se desea calcular el gini_index en un DataFrame X\n",
    "        y [DataFrame]:  variable objetivo    \n",
    "        split[float] :  valor a partir del cual se desea realizar la bifurcación ..\n",
    "                        .. X_l = X[X<split],   X_r = X[X>=split]\n",
    "    RETURN\n",
    "        gini_impurity_: valor de la ganancia de la bifurcación evaluada.\n",
    "    \"\"\"\n",
    "    \n",
    "    # Se realiza la partición de acuerdo al valor de 'split'\n",
    "    filter_l = X_col < split\n",
    "    y_l = y.loc[filter_l]\n",
    "    y_r = y.loc[~filter_l]\n",
    "    \n",
    "    n_l = y_l.shape[0]\n",
    "    n_r = y_r.shape[0]\n",
    "    \n",
    "    # Se calcula el 'gini' para cada partición resultante\n",
    "    gini_y = gini(y)\n",
    "    gini_l = gini(y_l)\n",
    "    gini_r = gini(y_r)\n",
    "    \n",
    "    # Se calcula la ganancia a partir de la ponderación del gini en las particiones\n",
    "    gini_impurity_ = gini_y - (n_l / (n_l + n_r) * gini_l + n_r / (n_l + n_r) * gini_r)\n",
    "    \n",
    "    return gini_impurity_"
   ]
  },
  {
   "cell_type": "code",
   "execution_count": 9,
   "metadata": {},
   "outputs": [],
   "source": [
    "# Definición de la función best_split para calcular cuál es la mejor variable y punto de cortepara hacer la bifurcación del árbol\n",
    "\n",
    "def best_split(X, y, num_pct=10):\n",
    "   \n",
    "    \"\"\"\n",
    "    Función para obtener cual es la mejor variable 'j' y su punto más óptimo de partición para realizar la bifurcación a partir\n",
    "    de la ganancia 'gain'\n",
    "    \n",
    "    PARAMETERS\n",
    "    X [DataFrame] : Arreglo que contiene las observaciones de cada variable predictora\n",
    "    y [DataFrame] : Arreglo que contiene la variable respuesta para cada observación en X\n",
    "    num_pct [int] : Número de percentiles a evaluar para realizar las bifurcaciones.\n",
    "    \n",
    "    RETURN\n",
    "    list:   [   \n",
    "                j: indice de la variable en X en la que se obtiene mayor ganancia al realizar el corte,\n",
    "                split: valor en donde se obtiene la mayor ganancia al realizar el corte,\n",
    "                gain; ganancia obtenida con dicho corte \n",
    "            ]\n",
    "    \"\"\"\n",
    "    \n",
    "    # Se obtienen las columnas del DataFrame X\n",
    "    features = range(X.shape[1])\n",
    "    \n",
    "    # Se definen valores iniciales para la variable respuesta\n",
    "    best_split = [0, 0, 0]  # j, split, gain\n",
    "    \n",
    "    # Para todas las varibles en el DataFrame X\n",
    "    for j in features:\n",
    "        \n",
    "        # Se obtienen los valores de las particiones de acuerdo al número de percentiles definidos\n",
    "        splits = np.percentile(X.iloc[:, j], np.arange(0, 100, 100.0 / (num_pct+1)).tolist())\n",
    "        splits = np.unique(splits)[1:]\n",
    "        \n",
    "        # Para cada partición\n",
    "        for split in splits:\n",
    "            #Se calcula la ganancia obtenida al realizar dicho corte\n",
    "            gain = gini_impurity(X.iloc[:, j], y, split)\n",
    "            \n",
    "            # Se busca la partición que genere la mayor ganancia.\n",
    "            if gain > best_split[2]:\n",
    "                best_split = [j, split, gain]\n",
    "    \n",
    "    return best_split"
   ]
  },
  {
   "cell_type": "code",
   "execution_count": 10,
   "metadata": {},
   "outputs": [],
   "source": [
    "# Definición de la función tree_grow para hacer un crecimiento recursivo del árbol\n",
    "def tree_grow(X, y, level=0, min_gain=0.001, max_depth=None, num_pct=10):\n",
    "    \n",
    "    \"\"\"\n",
    "    Función para desplegar el árbol hasta alcanzar los parámetros de Stop definidos\n",
    "    \n",
    "    PARAMETERS\n",
    "    X [DataFrame]   : arreglo que contiene las observaciones de las variables predictoras\n",
    "    y [DataFrame]   : arreglo que contiene la variable respuesta para cada observación\n",
    "    level [int]     : profundidad inicial del árbol, default 0\n",
    "    min_gain [float]: ganancia mínima esperada de una partición para continuar con el despliegue del árbol\n",
    "    max_depth [int] : profunidad máxima del árbol\n",
    "    num_pct [int]   : número de percentiles sobre los cuales se evaluará el punto de corte en cada partición\n",
    "    \n",
    "    RETURN\n",
    "    \n",
    "    [Dictionary]:   \n",
    "        {\n",
    "            y_pred: predicción de la rama del árbol\n",
    "            y_prob: \n",
    "            level : nivel del árbol\n",
    "            split : [j, split, gain]\n",
    "            gain  : ganancia de cada nodo\n",
    "            sl    : rama izquierda de cada nodo (dict)\n",
    "            sr    : rama derecha de cada nodo   (dict)\n",
    "            \n",
    "        }                \n",
    "        \n",
    "    \"\"\"\n",
    "    \n",
    "    # Si solo es una observación\n",
    "    if X.shape[0] == 1:\n",
    "        tree = dict(y_pred=y.iloc[:1].values[0], y_prob=0.5, level=level, split=-1, n_samples=1, gain=0)\n",
    "        return tree\n",
    "    \n",
    "    # Calcular la mejor división\n",
    "    j, split, gain = best_split(X, y, num_pct)\n",
    "    \n",
    "    # Guardar el árbol y estimar la predicción\n",
    "    y_pred = int(y.mean() >= 0.5) \n",
    "    y_prob = (y.sum() + 1.0) / (y.shape[0] + 2.0)  # Corrección Laplace \n",
    "    \n",
    "    tree = dict(y_pred=y_pred, y_prob=y_prob, level=level, split=-1, n_samples=X.shape[0], gain=gain)\n",
    "    # Revisar el criterio de parada \n",
    "    if gain < min_gain:\n",
    "        return tree\n",
    "    if max_depth is not None:\n",
    "        if level >= max_depth:\n",
    "            return tree   \n",
    "    \n",
    "    # Continuar creando la partición\n",
    "    filter_l = X.iloc[:, j] < split\n",
    "    X_l, y_l = X.loc[filter_l], y.loc[filter_l]\n",
    "    X_r, y_r = X.loc[~filter_l], y.loc[~filter_l]\n",
    "    tree['split'] = [j, split]\n",
    "\n",
    "    # Siguiente iteración para cada partición\n",
    "    \n",
    "    tree['sl'] = tree_grow(X_l, y_l, level + 1, min_gain=min_gain, max_depth=max_depth, num_pct=num_pct)\n",
    "    tree['sr'] = tree_grow(X_r, y_r, level + 1, min_gain=min_gain, max_depth=max_depth, num_pct=num_pct)\n",
    "\n",
    "    return tree"
   ]
  },
  {
   "cell_type": "code",
   "execution_count": 11,
   "metadata": {},
   "outputs": [],
   "source": [
    "# Definición de la función tree_predict para hacer predicciones según las variables 'X' y el árbol 'tree'\n",
    "\n",
    "def tree_predict(X, tree, proba=False):\n",
    "    \n",
    "    predicted = np.ones(X.shape[0])\n",
    "\n",
    "    # Revisar si es el nodo final\n",
    "    if tree['split'] == -1:\n",
    "        if not proba:\n",
    "            predicted = predicted * tree['y_pred']\n",
    "        else:\n",
    "            predicted = predicted * tree['y_prob']\n",
    "            \n",
    "    else:\n",
    "        \n",
    "        j, split = tree['split']\n",
    "        filter_l = (X.iloc[:, j] < split)\n",
    "        X_l = X.loc[filter_l]\n",
    "        X_r = X.loc[~filter_l]\n",
    "\n",
    "        if X_l.shape[0] == 0:  # Si el nodo izquierdo está vacio solo continua con el derecho \n",
    "            predicted[~filter_l] = tree_predict(X_r, tree['sr'], proba)\n",
    "        elif X_r.shape[0] == 0:  #  Si el nodo derecho está vacio solo continua con el izquierdo\n",
    "            predicted[filter_l] = tree_predict(X_l, tree['sl'], proba)\n",
    "        else:\n",
    "            predicted[filter_l] = tree_predict(X_l, tree['sl'], proba)\n",
    "            predicted[~filter_l] = tree_predict(X_r, tree['sr'], proba)\n",
    "\n",
    "    return predicted"
   ]
  },
  {
   "cell_type": "code",
   "execution_count": 12,
   "metadata": {},
   "outputs": [],
   "source": [
    "accuracy = []\n",
    "\n",
    "#Se itera con 10 profundidades en el arbol para obtener el accuracy mas alto\n",
    "for i in range(10):\n",
    "        \n",
    "    man_tree = tree_grow(X_train, y_train, level=0, min_gain=0.001, max_depth=i+1, num_pct=10)\n",
    "\n",
    "    # Se obtienen las predicciones\n",
    "    mt_pred = tree_predict(X_test, man_tree, proba = False)\n",
    "    mt_pred\n",
    "\n",
    "    # Se calcula el Accuracy del árbol construido\n",
    "    mt_accur = sum(y_test == mt_pred)/y_test.shape[0]\n",
    "    accuracy.append(mt_accur)"
   ]
  },
  {
   "cell_type": "code",
   "execution_count": 13,
   "metadata": {},
   "outputs": [
    {
     "name": "stdout",
     "output_type": "stream",
     "text": [
      "El accuracy en el set de test es:  0.888\n",
      "La profundidad optima con la que se obtuvo este accuracy fue:  4\n"
     ]
    }
   ],
   "source": [
    "# Obtenemos la profundidad y el accuracy mas óptimo\n",
    "accu = max(accuracy)\n",
    "profu = accuracy.index(accu)\n",
    "\n",
    "print ('El accuracy en el set de test es: ',round(accu,4))\n",
    "print ('La profundidad optima con la que se obtuvo este accuracy fue: ',profu)\n"
   ]
  },
  {
   "cell_type": "markdown",
   "metadata": {},
   "source": [
    "### Punto 2 - Bagging manual\n",
    "\n",
    "En la celda 2 creen un modelo bagging **manualmente** con 10 árboles de clasificación y comenten sobre el desempeño del modelo."
   ]
  },
  {
   "cell_type": "code",
   "execution_count": 14,
   "metadata": {},
   "outputs": [],
   "source": [
    "# Celda 2\n",
    "\n",
    "def man_bagging(X_tr, Y_tr, X_ts, n_clas):\n",
    "    \n",
    "    \"\"\"\n",
    "    Función para generar un modelo de Bagging con 'n_clas' clasificadores, donde el ensamblaje se realiza\n",
    "    a partir de votación mayoritaria\n",
    "    \n",
    "    PARAMETERS\n",
    "    X_tr [DataFrame]: Conjunto de observaciones de variables predictoras para entrenamiento\n",
    "    Y_tr [DataFrame]: Conjunto de observaciones de variables respuesta para entrenamiento\n",
    "    X_ts [DataFrame]: Conjunto de observaciones de variables predictoras para test\n",
    "    n_class [int]: número de clasificadores a ensamblar\n",
    "    \n",
    "    RETURN\n",
    "    ens_predict [Series]: Predicciones después del Bagging y votación mayoritaria\n",
    "    \n",
    "    \"\"\"\n",
    "    \n",
    "    n_samples = X_tr.shape[0] #Número de observaciones\n",
    "    predicts = pd.DataFrame(index=X_ts.index, columns=[list(range(n_clas))]) #DF vacío para guardar las predicciones de cada árbol\n",
    "    \n",
    "    for i in range(0,n_clas):\n",
    "        \n",
    "        # Se realiza el muestreo aleatorio de observaciones\n",
    "        samp_bag = np.random.choice(a=n_samples, size=n_samples, replace=True) #boostrap con repetición permitida\n",
    "        \n",
    "        X_it = X_tr.reset_index().drop(['index'], axis = 1).iloc[samp_bag,:] #Nueva muestra de entrenamiento\n",
    "        Y_it = Y_tr.reset_index().drop(['index'], axis = 1).iloc[samp_bag,:]\n",
    "        \n",
    "        # Se entrena un arbol de decisión con dichas observaciones y se incluye a la lista 'tree_bag'\n",
    "        tree_it = DecisionTreeClassifier().fit(X_it, Y_it)        \n",
    "        \n",
    "        # Se realizan las predicciones para X_test\n",
    "        pred_it = tree_it.predict(X_ts)\n",
    "        \n",
    "        # Se guarda dentro del DataFrame en la columna correspondiente al iesimo predictor\n",
    "        predicts.iloc[:,i] = pred_it\n",
    "        \n",
    "        # Predicción para cada observación de cada predictor\n",
    "        # Se transpone para poder hacer operaciones de promedio en cada fila que representa las predicciones de cada arbol\n",
    "        pred_tree = predicts.transpose()\n",
    "     \n",
    "        # Se realiza la votación mayoritaria y se asgina la predicción\n",
    "        ens_predict = (pred_tree.mean()>=0.5).astype(int)\n",
    "    \n",
    "    return ens_predict\n",
    "    "
   ]
  },
  {
   "cell_type": "code",
   "execution_count": 15,
   "metadata": {
    "scrolled": true
   },
   "outputs": [
    {
     "data": {
      "text/plain": [
       "257343    0\n",
       "326011    0\n",
       "242354    1\n",
       "266376    1\n",
       "396954    1\n",
       "         ..\n",
       "144298    0\n",
       "364521    1\n",
       "120072    1\n",
       "99878     0\n",
       "387162    0\n",
       "Length: 3464, dtype: int32"
      ]
     },
     "execution_count": 15,
     "metadata": {},
     "output_type": "execute_result"
    }
   ],
   "source": [
    "mb_pred = man_bagging(X_train, y_train, X_test, 10)\n",
    "mb_pred"
   ]
  },
  {
   "cell_type": "code",
   "execution_count": 16,
   "metadata": {},
   "outputs": [
    {
     "data": {
      "text/plain": [
       "0.8556581986143187"
      ]
     },
     "execution_count": 16,
     "metadata": {},
     "output_type": "execute_result"
    }
   ],
   "source": [
    "mb_accuracy =  sum(mb_pred == y_test)/y_test.shape[0]\n",
    "mb_accuracy"
   ]
  },
  {
   "cell_type": "markdown",
   "metadata": {},
   "source": [
    "### Punto 3 - Bagging con librería\n",
    "\n",
    "En la celda 3, con la librería sklearn, entrenen un modelo bagging con 10 árboles de clasificación y el parámetro `max_features` igual a `log(n_features)`. Presenten el acurracy del modelo en el set de test y comenten sus resultados."
   ]
  },
  {
   "cell_type": "code",
   "execution_count": 17,
   "metadata": {},
   "outputs": [
    {
     "name": "stdout",
     "output_type": "stream",
     "text": [
      " El accuracy del modelo es: \n",
      "0.8620092378752887\n"
     ]
    }
   ],
   "source": [
    "# Celda 3\n",
    "\n",
    "BG_clsf = BaggingClassifier(\n",
    "                            base_estimator = None,\n",
    "                            n_estimators = 10,\n",
    "                            max_features = int(np.log(X_train.shape[1]))\n",
    "                            )\n",
    "    \n",
    "BG_clsf.fit(X_train, y_train)\n",
    "\n",
    "BG_pred = BG_clsf.predict(X_test)\n",
    "\n",
    "BG_accuracy = sum(BG_pred == y_test)/y_test.shape[0]\n",
    "\n",
    "print(\" El accuracy del modelo es: \")\n",
    "print(BG_accuracy)"
   ]
  },
  {
   "cell_type": "markdown",
   "metadata": {},
   "source": [
    "### Punto 4 - Random forest con librería\n",
    "\n",
    "En la celda 4, usando la librería sklearn entrenen un modelo de Randon Forest para clasificación y presenten el acurracy del modelo en el set de test y comenten sus resultados."
   ]
  },
  {
   "cell_type": "code",
   "execution_count": 18,
   "metadata": {},
   "outputs": [
    {
     "data": {
      "text/plain": [
       "0.8441108545034642"
      ]
     },
     "execution_count": 18,
     "metadata": {},
     "output_type": "execute_result"
    }
   ],
   "source": [
    "# Celda 4\n",
    "\n",
    "RF_clsf = RandomForestClassifier()\n",
    "RF_clsf.fit(X_train, y_train)\n",
    "\n",
    "RF_pred = RF_clsf.predict(X_test)\n",
    "RF_accuracy = sum(y_test == RF_pred)/y_test.shape[0]\n",
    "RF_accuracy"
   ]
  },
  {
   "cell_type": "markdown",
   "metadata": {},
   "source": [
    "#### Comentarios\n",
    "\n",
    "El modelo RandomForest sin calibrar presenta un accuracy de 0.844. En general, es bastante aceptable, sin embargo, al compararlo con XGBoost, se ve que hay una diferencia entre el desempeño de ambos"
   ]
  },
  {
   "cell_type": "markdown",
   "metadata": {},
   "source": [
    "### Punto 5 - Calibración de parámetros Random forest\n",
    "\n",
    "En la celda 5, calibren los parámetros max_depth, max_features y n_estimators del modelo de Randon Forest para clasificación. Presenten el acurracy del modelo en el set de test, comenten sus resultados y análicen cómo cada parámetro afecta el modelo."
   ]
  },
  {
   "cell_type": "code",
   "execution_count": 19,
   "metadata": {},
   "outputs": [],
   "source": [
    "# Celda 5\n",
    "from sklearn.ensemble import RandomForestClassifier\n",
    "from sklearn.model_selection import cross_val_score\n",
    "\n",
    "# Creación de lista de valores para iterar sobre diferentes valores de n_estimators\n",
    "estimator_range = range(10, 310, 10)\n",
    "\n",
    "# Definición de lista para almacenar la exactitud (accuracy) promedio para cada valor de n_estimators\n",
    "accuracy_scores = []\n",
    "\n",
    "# Uso de un 5-fold cross-validation para cada valor de n_estimators\n",
    "for estimator in estimator_range:\n",
    "    clf = RandomForestClassifier(n_estimators=estimator, random_state=1, n_jobs=-1)\n",
    "    accuracy_scores.append(cross_val_score(clf, X_train, y_train, cv=5, scoring='accuracy').mean())"
   ]
  },
  {
   "cell_type": "code",
   "execution_count": 20,
   "metadata": {},
   "outputs": [
    {
     "data": {
      "image/png": "[encoded data removed]",
      "text/plain": [
       "<Figure size 432x288 with 1 Axes>"
      ]
     },
     "metadata": {
      "needs_background": "light"
     },
     "output_type": "display_data"
    }
   ],
   "source": [
    "import matplotlib.pyplot as plt\n",
    "# Gráfica del desempeño del modelo vs la cantidad de n_estimators\n",
    "plt.plot(estimator_range, accuracy_scores)\n",
    "plt.xlabel('n_estimators')\n",
    "plt.ylabel('Accuracy')\n",
    "plt.title('Gráfica de desempeño de modelo según estimadores')\n",
    "plt.show()"
   ]
  },
  {
   "cell_type": "code",
   "execution_count": 21,
   "metadata": {},
   "outputs": [],
   "source": [
    "# Creación de lista de valores para iterar sobre diferentes valores de max_features\n",
    "feature_range = range(1, X_train.shape[1]+1)\n",
    "\n",
    "# Definición de lista para almacenar la exactitud (accuracy) promedio para cada valor de max_features\n",
    "accuracy_scores = []\n",
    "\n",
    "# Uso de un 10-fold cross-validation para cada valor de max_features\n",
    "for feature in feature_range:\n",
    "    clf = RandomForestClassifier(n_estimators=25, max_features=feature, random_state=1, n_jobs=-1)\n",
    "    accuracy_scores.append(cross_val_score(clf, X_train, y_train, cv=5, scoring='accuracy').mean())\n",
    "    "
   ]
  },
  {
   "cell_type": "code",
   "execution_count": 22,
   "metadata": {},
   "outputs": [
    {
     "data": {
      "image/png": "[encoded data removed]",
      "text/plain": [
       "<Figure size 432x288 with 1 Axes>"
      ]
     },
     "metadata": {
      "needs_background": "light"
     },
     "output_type": "display_data"
    }
   ],
   "source": [
    "# Gráfica del desempeño del modelo vs la cantidad de max_features\n",
    "plt.plot(feature_range, accuracy_scores)\n",
    "plt.xlabel('max_features')\n",
    "plt.ylabel('Accuracy')\n",
    "plt.title('Gráfica de desempeño de modelo según max_features')\n",
    "plt.show()"
   ]
  },
  {
   "cell_type": "code",
   "execution_count": 23,
   "metadata": {},
   "outputs": [],
   "source": [
    "# Creación de lista de valores para iterar sobre diferentes valores de max_depth\n",
    "depth_range = range(1, 15, 1)\n",
    "\n",
    "# Definición de lista para almacenar la exactitud (accuracy) promedio para cada valor de n_estimators\n",
    "accuracy_scores = []\n",
    "\n",
    "# Uso de un 5-fold cross-validation para cada valor de n_estimators\n",
    "for estimator in depth_range:\n",
    "    clf = RandomForestClassifier(n_estimators=25, random_state=1, n_jobs=-1, max_features=9 , max_depth = estimator )\n",
    "    accuracy_scores.append(cross_val_score(clf, X_train, y_train, cv=5, scoring='accuracy').mean())"
   ]
  },
  {
   "cell_type": "code",
   "execution_count": 24,
   "metadata": {},
   "outputs": [
    {
     "data": {
      "image/png": "[encoded data removed]",
      "text/plain": [
       "<Figure size 432x288 with 1 Axes>"
      ]
     },
     "metadata": {
      "needs_background": "light"
     },
     "output_type": "display_data"
    }
   ],
   "source": [
    "# Gráfica del desempeño del modelo vs la cantidad de max_features\n",
    "plt.plot(depth_range, accuracy_scores)\n",
    "plt.xlabel('max_features')\n",
    "plt.ylabel('Accuracy')\n",
    "plt.title('Gráfica de desempeño de modelo según max_depth')\n",
    "plt.show()"
   ]
  },
  {
   "cell_type": "code",
   "execution_count": 25,
   "metadata": {},
   "outputs": [
    {
     "name": "stdout",
     "output_type": "stream",
     "text": [
      "Mejor modelo calibrado - Parametros Accuracy:  0.882229633158647\n"
     ]
    }
   ],
   "source": [
    "# Definición del modelo con los parámetros max_features=6 y n_estimators=200 \n",
    "rf_best = RandomForestClassifier(n_estimators=25, max_features=9, random_state=1, n_jobs=-1, max_depth = 6)\n",
    "rf_best.fit(X, y)\n",
    "rf_best_accuracy = cross_val_score(rf_best, X, y, cv=5, scoring='accuracy').mean()\n",
    "print(\"Mejor modelo calibrado - Parametros Accuracy: \" , rf_best_accuracy )"
   ]
  },
  {
   "cell_type": "markdown",
   "metadata": {},
   "source": [
    "#### Comentarios\n",
    "\n",
    "Con la calibración, el accuracy mejora considerablemente, pasando de 0.84 a 0.88. En general, si solamente se calibrara un hiperparámetro a la vez, la mejora no sería tan significativa como lo fue al calibrar los 3 hiperparámetros al mismo tiempo. El mejor modelo se obtuvo con los siguientes hiperparámetros:\n",
    "\n",
    "* n_estimators = 25\n",
    "* max_features = 9\n",
    "* max_depth = 6\n",
    "\n",
    "También se puede observar que el hiperparámetro que mayor influencia tiene en el desempeño es max_depth."
   ]
  },
  {
   "cell_type": "markdown",
   "metadata": {},
   "source": [
    "### Punto 6 - XGBoost con librería\n",
    "\n",
    "En la celda 6 implementen un modelo XGBoost de clasificación con la librería sklearn, presenten el acurracy del modelo en el set de test y comenten sus resultados."
   ]
  },
  {
   "cell_type": "code",
   "execution_count": 26,
   "metadata": {},
   "outputs": [
    {
     "name": "stdout",
     "output_type": "stream",
     "text": [
      "Requirement already satisfied: xgboost in c:\\users\\adrián alarcón\\appdata\\local\\programs\\python\\python310\\lib\\site-packages (1.6.0)\n",
      "Requirement already satisfied: numpy in c:\\users\\adrián alarcón\\appdata\\local\\programs\\python\\python310\\lib\\site-packages (from xgboost) (1.22.3)\n",
      "Requirement already satisfied: scipy in c:\\users\\adrián alarcón\\appdata\\local\\programs\\python\\python310\\lib\\site-packages (from xgboost) (1.8.0)\n",
      "Note: you may need to restart the kernel to use updated packages.\n"
     ]
    }
   ],
   "source": [
    "pip install xgboost"
   ]
  },
  {
   "cell_type": "code",
   "execution_count": 38,
   "metadata": {},
   "outputs": [
    {
     "name": "stdout",
     "output_type": "stream",
     "text": [
      "XGBClassifier(base_score=0.5, booster='gbtree', callbacks=None,\n",
      "              colsample_bylevel=1, colsample_bynode=1, colsample_bytree=1,\n",
      "              early_stopping_rounds=None, enable_categorical=False,\n",
      "              eval_metric=None, gamma=0, gpu_id=-1, grow_policy='depthwise',\n",
      "              importance_type=None, interaction_constraints='',\n",
      "              learning_rate=0.300000012, max_bin=256, max_cat_to_onehot=4,\n",
      "              max_delta_step=0, max_depth=6, max_leaves=0, min_child_weight=1,\n",
      "              missing=nan, monotone_constraints='()', n_estimators=100,\n",
      "              n_jobs=0, num_parallel_tree=1, predictor='auto', random_state=0,\n",
      "              reg_alpha=0, reg_lambda=1, ...)\n",
      "\n",
      "\n",
      "Accuracy XGBoost:  [0.8742719040440956]\n"
     ]
    }
   ],
   "source": [
    "# Celda 6\n",
    "\n",
    "# Importación y definición de modelo XGBClassifier\n",
    "from xgboost import XGBClassifier\n",
    "\n",
    "xgb = XGBClassifier()\n",
    "xgb.fit(X_train,y_train)\n",
    "print(xgb)\n",
    "\n",
    "accuracy_scores_ini = []\n",
    "\n",
    "accuracy_scores_ini.append(cross_val_score(xgb, X_train, y_train, cv=5, scoring='accuracy').mean())\n",
    "\n",
    "xgb_accuracy = accuracy_scores_ini[0]\n",
    "print(\"\\n\\nAccuracy XGBoost: \", accuracy_scores_ini)\n",
    "\n"
   ]
  },
  {
   "cell_type": "markdown",
   "metadata": {},
   "source": [
    "Sin calibrar, XGBoost presenta resultados bastantes buenos, llegando a 0.87 de accuracy, que es mucho mejor al accuracy de Random Forest sin calibrar. Esto guarda relación con lo que se ha estudiado teóricamente."
   ]
  },
  {
   "cell_type": "markdown",
   "metadata": {},
   "source": [
    "### Punto 7 - Calibración de parámetros XGBoost\n",
    "\n",
    "En la celda 7 calibren los parámetros learning rate, gamma y colsample_bytree del modelo XGBoost para clasificación. Presenten el acurracy del modelo en el set de test, comenten sus resultados y análicen cómo cada parámetro afecta el modelo."
   ]
  },
  {
   "cell_type": "code",
   "execution_count": 28,
   "metadata": {},
   "outputs": [
    {
     "name": "stdout",
     "output_type": "stream",
     "text": [
      "[0.0, 0.05, 0.1, 0.15, 0.2, 0.25, 0.3, 0.35, 0.4, 0.45, 0.5, 0.55, 0.6, 0.65, 0.7, 0.75, 0.8, 0.85, 0.9, 0.95]\n"
     ]
    }
   ],
   "source": [
    "# Celda 7\n",
    "\n",
    "# Creación de lista de valores para iterar sobre diferentes valores de n_estimators\n",
    "estimator_range = range(0, 100, 5)\n",
    "new_estimator_range =[]\n",
    "for i in estimator_range:\n",
    "    new_estimator_range.append(i/100) \n",
    "print(new_estimator_range)\n",
    "\n",
    "# Definición de lista para almacenar la exactitud (accuracy) promedio para cada valor de n_estimators\n",
    "accuracy_scores = []\n",
    "\n",
    "# Uso de un 5-fold cross-validation para cada valor de n_estimators\n",
    "for estimator in new_estimator_range:\n",
    "    clf = XGBClassifier(learning_rate=estimator, random_state=1, n_jobs=-1)\n",
    "    accuracy_scores.append(cross_val_score(clf, X_train, y_train, cv=5, scoring='accuracy').mean())\n"
   ]
  },
  {
   "cell_type": "code",
   "execution_count": 29,
   "metadata": {},
   "outputs": [
    {
     "data": {
      "text/plain": [
       "Text(0.5, 1.0, 'Desempeño del modelo según learning rate')"
      ]
     },
     "execution_count": 29,
     "metadata": {},
     "output_type": "execute_result"
    },
    {
     "data": {
      "image/png": "[encoded data removed]",
      "text/plain": [
       "<Figure size 432x288 with 1 Axes>"
      ]
     },
     "metadata": {
      "needs_background": "light"
     },
     "output_type": "display_data"
    }
   ],
   "source": [
    "import matplotlib.pyplot as plt\n",
    "# Gráfica del desempeño del modelo vs la cantidad de n_estimators\n",
    "plt.plot(new_estimator_range, accuracy_scores)\n",
    "plt.xlabel('Learning Rate')\n",
    "plt.ylabel('Accuracy')\n",
    "plt.title('Desempeño del modelo según learning rate')"
   ]
  },
  {
   "cell_type": "code",
   "execution_count": 30,
   "metadata": {},
   "outputs": [
    {
     "name": "stdout",
     "output_type": "stream",
     "text": [
      "[0.0, 0.05, 0.1, 0.15, 0.2, 0.25, 0.3, 0.35, 0.4, 0.45, 0.5, 0.55, 0.6, 0.65, 0.7, 0.75, 0.8, 0.85, 0.9, 0.95]\n"
     ]
    }
   ],
   "source": [
    "# Creación de lista de valores para iterar sobre diferentes valores de n_estimators\n",
    "estimator_range = range(0, 100, 5)\n",
    "new_estimator_range =[]\n",
    "for i in estimator_range:\n",
    "    new_estimator_range.append(i/100) \n",
    "print(new_estimator_range)\n",
    "\n",
    "# Definición de lista para almacenar la exactitud (accuracy) promedio para cada valor de n_estimators\n",
    "accuracy_scores = []\n",
    "\n",
    "# Uso de un 5-fold cross-validation para cada valor de n_estimators\n",
    "for estimator in new_estimator_range:\n",
    "    clf = XGBClassifier(learning_rate=.05, random_state=1, n_jobs=-1, gamma =estimator)\n",
    "    accuracy_scores.append(cross_val_score(clf, X_train, y_train, cv=5, scoring='accuracy').mean())"
   ]
  },
  {
   "cell_type": "code",
   "execution_count": 31,
   "metadata": {},
   "outputs": [
    {
     "data": {
      "text/plain": [
       "Text(0.5, 1.0, 'Desempeño del modelo según Gamma')"
      ]
     },
     "execution_count": 31,
     "metadata": {},
     "output_type": "execute_result"
    },
    {
     "data": {
      "image/png": "[encoded data removed]",
      "text/plain": [
       "<Figure size 432x288 with 1 Axes>"
      ]
     },
     "metadata": {
      "needs_background": "light"
     },
     "output_type": "display_data"
    }
   ],
   "source": [
    "import matplotlib.pyplot as plt\n",
    "# Gráfica del desempeño del modelo vs la cantidad de n_estimators\n",
    "plt.plot(new_estimator_range, accuracy_scores)\n",
    "plt.xlabel('Gamma')\n",
    "plt.ylabel('Accuracy')\n",
    "plt.title('Desempeño del modelo según Gamma')"
   ]
  },
  {
   "cell_type": "code",
   "execution_count": 32,
   "metadata": {},
   "outputs": [
    {
     "name": "stdout",
     "output_type": "stream",
     "text": [
      "[0.0, 0.05, 0.1, 0.15, 0.2, 0.25, 0.3, 0.35, 0.4, 0.45, 0.5, 0.55, 0.6, 0.65, 0.7, 0.75, 0.8, 0.85, 0.9, 0.95]\n",
      "0.0  0.867019606296904\n",
      "0.05  0.867019606296904\n",
      "0.1  0.867019606296904\n",
      "0.15  0.867019606296904\n",
      "0.2  0.867019606296904\n",
      "0.25  0.8746994553750248\n",
      "0.3  0.8746994553750248\n",
      "0.35  0.8805305923137817\n",
      "0.4  0.8805305923137817\n",
      "0.45  0.8813837740781967\n",
      "0.5  0.8813837740781967\n",
      "0.55  0.8813837740781967\n",
      "0.6  0.881526223788596\n",
      "0.65  0.881526223788596\n",
      "0.7  0.8816679657999377\n",
      "0.75  0.8816679657999377\n",
      "0.8  0.8809571326460566\n",
      "0.85  0.8809571326460566\n",
      "0.9  0.8810992790568596\n",
      "0.95  0.8810992790568596\n"
     ]
    }
   ],
   "source": [
    "# Creación de lista de valores para iterar sobre diferentes valores de max_features\n",
    "accuracy_scores = []\n",
    "estimator_range = range(0, 100, 5)\n",
    "new_estimator_range =[]\n",
    "for i in estimator_range:\n",
    "    new_estimator_range.append(i/100) \n",
    "print(new_estimator_range)\n",
    "\n",
    "\n",
    "# Uso de un 5-fold cross-validation para cada valor de n_estimators\n",
    "for estimator in new_estimator_range:\n",
    "    clf = XGBClassifier(learning_rate=.05, random_state=1, n_jobs=-1, gamma =.35, colsample_bytree = estimator )\n",
    "    print(estimator, \"\", cross_val_score(clf, X_train, y_train, cv=5, scoring='accuracy').mean())\n",
    "    accuracy_scores.append(cross_val_score(clf, X_train, y_train, cv=5, scoring='accuracy').mean())"
   ]
  },
  {
   "cell_type": "code",
   "execution_count": 33,
   "metadata": {},
   "outputs": [
    {
     "data": {
      "text/plain": [
       "Text(0.5, 1.0, 'Desempeño del modelo según colsample by tree')"
      ]
     },
     "execution_count": 33,
     "metadata": {},
     "output_type": "execute_result"
    },
    {
     "data": {
      "image/png": "[encoded data removed]",
      "text/plain": [
       "<Figure size 432x288 with 1 Axes>"
      ]
     },
     "metadata": {
      "needs_background": "light"
     },
     "output_type": "display_data"
    }
   ],
   "source": [
    "import matplotlib.pyplot as plt\n",
    "# Gráfica del desempeño del modelo vs la cantidad de n_estimators\n",
    "plt.plot(new_estimator_range, accuracy_scores)\n",
    "plt.xlabel('Colsample By Tree')\n",
    "plt.ylabel('Accuracy')\n",
    "plt.title('Desempeño del modelo según colsample by tree')"
   ]
  },
  {
   "cell_type": "code",
   "execution_count": 34,
   "metadata": {},
   "outputs": [
    {
     "name": "stdout",
     "output_type": "stream",
     "text": [
      "\n",
      "\n",
      "Mejor modelo calibrado - Parametros Accuracy:  0.8828013339685563\n"
     ]
    }
   ],
   "source": [
    "# Definición del modelo con los parámetros learning rate = 0.05, gamma = 0.35 y colsample_bytree = .65\n",
    "xgb_best = XGBClassifier(learning_rate=.05, random_state=1, n_jobs=-1, gamma =.35, colsample_bytree = .65 )\n",
    "xgb_best.fit(X, y)\n",
    "xgb_best_accuracy = cross_val_score(xgb_best, X, y, cv=5, scoring='accuracy').mean()\n",
    "print(\"\\n\\nMejor modelo calibrado - Parametros Accuracy: \" , xgb_best_accuracy)"
   ]
  },
  {
   "cell_type": "markdown",
   "metadata": {},
   "source": [
    "Con respecto a la calibración de XGBoost, se puede observar que el accuracy mejora un poco, pasando de 0.87 a 0.88. El hiperparámetro que más mejora el desempeño es Gamma, sin embargo, los tres hiperparámetros calibrados presentan una similar influencia en el accuracy. El modelo calibrado es el siguiente:\n",
    "\n",
    "* learning rate = 0.05\n",
    "* gamma = 0.35\n",
    "* colsample_bytree = 0.65\n",
    "\n",
    "Como indica la teoría, XGBoost calibrado presenta un mejor desempeño de Random Forest calibrado"
   ]
  },
  {
   "cell_type": "markdown",
   "metadata": {},
   "source": [
    "### Punto 8 - Comparación y análisis de resultados\n",
    "En la celda 8 comparen los resultados obtenidos de los diferentes modelos (random forest y XGBoost) y comenten las ventajas del mejor modelo y las desventajas del modelo con el menor desempeño."
   ]
  },
  {
   "cell_type": "code",
   "execution_count": 39,
   "metadata": {},
   "outputs": [
    {
     "data": {
      "text/plain": [
       "Text(0.5, 1.0, 'Comparación de modelos según accuracy')"
      ]
     },
     "execution_count": 39,
     "metadata": {},
     "output_type": "execute_result"
    },
    {
     "data": {
      "image/png": "[encoded data removed]",
      "text/plain": [
       "<Figure size 720x360 with 1 Axes>"
      ]
     },
     "metadata": {
      "needs_background": "light"
     },
     "output_type": "display_data"
    }
   ],
   "source": [
    "# Comparación de modelos:\n",
    "\n",
    "import seaborn as sns\n",
    "modelos = ['RF s/cal', 'RF cal.', 'XGB s/cal','XGB cal.']\n",
    "accuracy_modelos = [round(RF_accuracy,3),round(rf_best_accuracy,3), round(xgb_accuracy,3), round(xgb_best_accuracy,3)]\n",
    "def addlabels(x,y):\n",
    "    for i in range(len(x)):\n",
    "        plt.text(i, y[i], y[i], ha = 'center')\n",
    "plt.figure(figsize = (10,5))\n",
    "sns.barplot(x = modelos, y = accuracy_modelos)\n",
    "addlabels(modelos, accuracy_modelos)\n",
    "plt.title('Comparación de modelos según accuracy')\n"
   ]
  },
  {
   "cell_type": "code",
   "execution_count": 46,
   "metadata": {},
   "outputs": [
    {
     "data": {
      "image/png": "[encoded data removed]",
      "text/plain": [
       "<Figure size 720x576 with 1 Axes>"
      ]
     },
     "metadata": {
      "needs_background": "light"
     },
     "output_type": "display_data"
    }
   ],
   "source": [
    "#### Comparación curvas ROC y AUC\n",
    "\n",
    "import sklearn.metrics as metrics\n",
    "# Random Forest sin calibrar\n",
    "probs_rf = RF_clsf.predict_proba(X_test)\n",
    "preds_rf = probs_rf[:,1]\n",
    "fpr_rf, tpr_rf, threshold_rf = metrics.roc_curve(y_test, preds_rf)\n",
    "roc_auc_rf = metrics.auc(fpr_rf, tpr_rf)\n",
    "\n",
    "# Random Forest calibrado\n",
    "probs_rf_best = rf_best.predict_proba(X_test)\n",
    "preds_rf_best = probs_rf_best[:,1]\n",
    "fpr_rf_best, tpr_rf_best, threshold_rf_best = metrics.roc_curve(y_test, preds_rf_best)\n",
    "roc_auc_rf_best = metrics.auc(fpr_rf_best, tpr_rf_best)\n",
    "\n",
    "# XGBoost sin calibrar\n",
    "probs_xgb = xgb.predict_proba(X_test)\n",
    "preds_xgb = probs_xgb[:,1]\n",
    "fpr_xgb, tpr_xgb, threshold_xgb = metrics.roc_curve(y_test, preds_xgb)\n",
    "roc_auc_xgb = metrics.auc(fpr_xgb, tpr_xgb)\n",
    "\n",
    "# XGBoost calibrado\n",
    "probs_xgb_best = xgb_best.predict_proba(X_test)\n",
    "preds_xgb_best = probs_xgb_best[:,1]\n",
    "fpr_xgb_best, tpr_xgb_best, threshold_xgb_best = metrics.roc_curve(y_test, preds_xgb_best)\n",
    "roc_auc_xgb_best = metrics.auc(fpr_xgb_best, tpr_xgb_best)\n",
    "\n",
    "\n",
    "\n",
    "# method I: plt\n",
    "# import matplotlib.pyplot as plt\n",
    "plt.figure(figsize = (10,8))\n",
    "plt.title('Comparación Curva ROC y AUC')\n",
    "plt.plot(fpr_rf, tpr_rf, 'b', label = 'AUC Random Forest s/cal. = %0.3f' % roc_auc_rf, color = 'blue')\n",
    "plt.plot(fpr_rf_best, tpr_rf_best, 'b', label = 'AUC Random Forest cal. = %0.3f' % roc_auc_rf_best, color = 'skyblue')\n",
    "plt.plot(fpr_xgb, tpr_xgb, 'b', label = 'AUC XGBoost s/cal.= %0.3f' % roc_auc_xgb, color = 'gray')\n",
    "plt.plot(fpr_xgb_best, tpr_xgb_best, 'b', label = 'AUC XGBoost cal.= %0.3f' % roc_auc_xgb_best, color = 'orange')\n",
    "plt.legend(loc = 'lower right')\n",
    "plt.plot([0, 1], [0, 1],'r--')\n",
    "plt.xlim([0, 1])\n",
    "plt.ylim([0, 1])\n",
    "plt.ylabel('True Positive Rate')\n",
    "plt.xlabel('False Positive Rate')\n",
    "plt.show()\n",
    "\n",
    "\n"
   ]
  },
  {
   "cell_type": "markdown",
   "metadata": {},
   "source": [
    "#### Conclusiones\n",
    "\n",
    "Para realizar la evaluación de los modelos, se utilizaron las métricas Accuracy y AUC. En cuanto al accuracy, los modelos calibrados tuvieron un mejor desempeño que aquellos que no fueron calibrados. Como lo indica la teoría, XGBoost calibrado presenta un mejor accuracy que Random Forest calibrado (0.883 vs. 0.882). La diferencia es mucho mayor en los modelos no calibrados. En este grupo XGBoost sin calibrar presenta un accuracy de 0.874 vs. el accuracy de Random Forest sin calibrar (0.844). En esta comparación se puede observar que, a pesar de no estar calibrado, XGBoost presenta un mejor desempeño, sin embargo, Random Forest y XGBoost presentan un desempeño bastante similar si son calibrados correctamente.\n",
    "\n",
    "Con respecto al AUC, el modelo XGBoost calibrado presenta un marcado mejor desempeño que todos los demas, llegando a 0.960. Al igual que con el accuracy, el modelo Random Forest calibrado ocupa el segundo lugar, con 0.958. XGBoost sin calibrar y Random Forest sin calibrar muestran AUC de 0.946 y 0.924 respectivamente. Nuevamente, XGBoost presenta un desempeño general mejor que Random Forest"
   ]
  }
 ],
 "metadata": {
  "kernelspec": {
   "display_name": "Python 3",
   "language": "python",
   "name": "python3"
  },
  "language_info": {
   "codemirror_mode": {
    "name": "ipython",
    "version": 3
   },
   "file_extension": ".py",
   "mimetype": "text/x-python",
   "name": "python",
   "nbconvert_exporter": "python",
   "pygments_lexer": "ipython3",
   "version": "3.10.4"
  }
 },
 "nbformat": 4,
 "nbformat_minor": 4
}
